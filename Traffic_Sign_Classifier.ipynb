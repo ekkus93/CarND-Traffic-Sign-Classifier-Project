{
 "cells": [
  {
   "cell_type": "markdown",
   "metadata": {
    "deletable": true,
    "editable": true
   },
   "source": [
    "# Self-Driving Car Engineer Nanodegree\n",
    "\n",
    "## Deep Learning\n",
    "\n",
    "## Project: Build a Traffic Sign Recognition Classifier\n",
    "\n",
    "In this notebook, a template is provided for you to implement your functionality in stages, which is required to successfully complete this project. If additional code is required that cannot be included in the notebook, be sure that the Python code is successfully imported and included in your submission if necessary. \n",
    "\n",
    "> **Note**: Once you have completed all of the code implementations, you need to finalize your work by exporting the iPython Notebook as an HTML document. Before exporting the notebook to html, all of the code cells need to have been run so that reviewers can see the final implementation and output. You can then export the notebook by using the menu above and navigating to  \\n\",\n",
    "    \"**File -> Download as -> HTML (.html)**. Include the finished document along with this notebook as your submission. \n",
    "\n",
    "In addition to implementing code, there is a writeup to complete. The writeup should be completed in a separate file, which can be either a markdown file or a pdf document. There is a [write up template](https://github.com/udacity/CarND-Traffic-Sign-Classifier-Project/blob/master/writeup_template.md) that can be used to guide the writing process. Completing the code template and writeup template will cover all of the [rubric points](https://review.udacity.com/#!/rubrics/481/view) for this project.\n",
    "\n",
    "The [rubric](https://review.udacity.com/#!/rubrics/481/view) contains \"Stand Out Suggestions\" for enhancing the project beyond the minimum requirements. The stand out suggestions are optional. If you decide to pursue the \"stand out suggestions\", you can include the code in this Ipython notebook and also discuss the results in the writeup file.\n",
    "\n",
    "\n",
    ">**Note:** Code and Markdown cells can be executed using the **Shift + Enter** keyboard shortcut. In addition, Markdown cells can be edited by typically double-clicking the cell to enter edit mode."
   ]
  },
  {
   "cell_type": "markdown",
   "metadata": {
    "deletable": true,
    "editable": true
   },
   "source": [
    "---\n",
    "## Step 0: Load The Data"
   ]
  },
  {
   "cell_type": "code",
   "execution_count": 1,
   "metadata": {
    "collapsed": false,
    "deletable": true,
    "editable": true
   },
   "outputs": [],
   "source": [
    "from PIL import Image\n",
    "import numpy as np\n",
    "import matplotlib.pyplot as plt\n",
    "%matplotlib inline\n",
    "\n",
    "from tqdm import tqdm\n",
    "import os\n",
    "from skimage.transform import resize\n",
    "from random import shuffle\n",
    "import pandas as pd\n",
    "import cv2\n",
    "\n",
    "data_dir = './data'"
   ]
  },
  {
   "cell_type": "code",
   "execution_count": 2,
   "metadata": {
    "collapsed": false,
    "deletable": true,
    "editable": true
   },
   "outputs": [],
   "source": [
    "import pickle\n",
    "\n",
    "# TODO: Fill this in based on where you saved the training and testing data\n",
    "traffic_signs_data_dir = \"%s/traffic-signs-data\" % data_dir\n",
    "training_file =  '%s/train.p' % traffic_signs_data_dir\n",
    "validation_file = '%s/valid.p' % traffic_signs_data_dir\n",
    "testing_file = '%s/test.p' % traffic_signs_data_dir\n",
    "    \n",
    "# Load pickled data\n",
    "with open(training_file, mode='rb') as f:\n",
    "    train = pickle.load(f)\n",
    "with open(validation_file, mode='rb') as f:\n",
    "    valid = pickle.load(f)\n",
    "with open(testing_file, mode='rb') as f:\n",
    "    test = pickle.load(f)\n",
    "    \n",
    "X_train, y_train = train['features'], train['labels']\n",
    "X_valid, y_valid = valid['features'], valid['labels']\n",
    "X_test, y_test = test['features'], test['labels']"
   ]
  },
  {
   "cell_type": "markdown",
   "metadata": {
    "deletable": true,
    "editable": true
   },
   "source": [
    "---\n",
    "\n",
    "## Step 1: Dataset Summary & Exploration\n",
    "\n",
    "The pickled data is a dictionary with 4 key/value pairs:\n",
    "\n",
    "- `'features'` is a 4D array containing raw pixel data of the traffic sign images, (num examples, width, height, channels).\n",
    "- `'labels'` is a 1D array containing the label/class id of the traffic sign. The file `signnames.csv` contains id -> name mappings for each id.\n",
    "- `'sizes'` is a list containing tuples, (width, height) representing the original width and height the image.\n",
    "- `'coords'` is a list containing tuples, (x1, y1, x2, y2) representing coordinates of a bounding box around the sign in the image. **THESE COORDINATES ASSUME THE ORIGINAL IMAGE. THE PICKLED DATA CONTAINS RESIZED VERSIONS (32 by 32) OF THESE IMAGES**\n",
    "\n",
    "Complete the basic data summary below. Use python, numpy and/or pandas methods to calculate the data summary rather than hard coding the results. For example, the [pandas shape method](http://pandas.pydata.org/pandas-docs/stable/generated/pandas.DataFrame.shape.html) might be useful for calculating some of the summary results. "
   ]
  },
  {
   "cell_type": "code",
   "execution_count": 3,
   "metadata": {
    "collapsed": false,
    "deletable": true,
    "editable": true
   },
   "outputs": [
    {
     "data": {
      "text/html": [
       "<div>\n",
       "<table border=\"1\" class=\"dataframe\">\n",
       "  <thead>\n",
       "    <tr style=\"text-align: right;\">\n",
       "      <th></th>\n",
       "      <th>ClassId</th>\n",
       "      <th>SignName</th>\n",
       "    </tr>\n",
       "  </thead>\n",
       "  <tbody>\n",
       "    <tr>\n",
       "      <th>0</th>\n",
       "      <td>0</td>\n",
       "      <td>Speed limit (20km/h)</td>\n",
       "    </tr>\n",
       "    <tr>\n",
       "      <th>1</th>\n",
       "      <td>1</td>\n",
       "      <td>Speed limit (30km/h)</td>\n",
       "    </tr>\n",
       "    <tr>\n",
       "      <th>2</th>\n",
       "      <td>2</td>\n",
       "      <td>Speed limit (50km/h)</td>\n",
       "    </tr>\n",
       "    <tr>\n",
       "      <th>3</th>\n",
       "      <td>3</td>\n",
       "      <td>Speed limit (60km/h)</td>\n",
       "    </tr>\n",
       "    <tr>\n",
       "      <th>4</th>\n",
       "      <td>4</td>\n",
       "      <td>Speed limit (70km/h)</td>\n",
       "    </tr>\n",
       "  </tbody>\n",
       "</table>\n",
       "</div>"
      ],
      "text/plain": [
       "   ClassId              SignName\n",
       "0        0  Speed limit (20km/h)\n",
       "1        1  Speed limit (30km/h)\n",
       "2        2  Speed limit (50km/h)\n",
       "3        3  Speed limit (60km/h)\n",
       "4        4  Speed limit (70km/h)"
      ]
     },
     "execution_count": 3,
     "metadata": {},
     "output_type": "execute_result"
    }
   ],
   "source": [
    "signnames_pd = pd.read_csv('signnames.csv')\n",
    "signnames_pd.head()"
   ]
  },
  {
   "cell_type": "markdown",
   "metadata": {
    "deletable": true,
    "editable": true
   },
   "source": [
    "### Provide a Basic Summary of the Data Set Using Python, Numpy and/or Pandas"
   ]
  },
  {
   "cell_type": "code",
   "execution_count": 4,
   "metadata": {
    "collapsed": false,
    "deletable": true,
    "editable": true
   },
   "outputs": [
    {
     "name": "stdout",
     "output_type": "stream",
     "text": [
      "Number of training examples = 34799\n",
      "Number of validation examples = 4410\n",
      "Number of testing examples = 12630\n",
      "Image data shape = (32, 32)\n",
      "Number of classes = 43\n"
     ]
    }
   ],
   "source": [
    "### Replace each question mark with the appropriate value. \n",
    "### Use python, pandas or numpy methods rather than hard coding the results\n",
    "\n",
    "# TODO: Number of training examples\n",
    "n_train = X_train.shape[0]\n",
    "\n",
    "# TODO: Number of validation examples\n",
    "n_validation = X_valid.shape[0]\n",
    "\n",
    "# TODO: Number of testing examples.\n",
    "n_test = X_test.shape[0]\n",
    "\n",
    "# TODO: What's the shape of an traffic sign image?\n",
    "image_shape = (X_train.shape[1], X_train.shape[2])\n",
    "\n",
    "# TODO: How many unique classes/labels there are in the dataset.\n",
    "n_classes = len(set(y_train.reshape((-1)).tolist()))\n",
    "\n",
    "print(\"Number of training examples =\", n_train)\n",
    "print(\"Number of validation examples =\", n_validation)\n",
    "print(\"Number of testing examples =\", n_test)\n",
    "print(\"Image data shape =\", image_shape)\n",
    "print(\"Number of classes =\", n_classes)"
   ]
  },
  {
   "cell_type": "markdown",
   "metadata": {
    "deletable": true,
    "editable": true
   },
   "source": [
    "### Include an exploratory visualization of the dataset"
   ]
  },
  {
   "cell_type": "markdown",
   "metadata": {
    "deletable": true,
    "editable": true
   },
   "source": [
    "Visualize the German Traffic Signs Dataset using the pickled file(s). This is open ended, suggestions include: plotting traffic sign images, plotting the count of each sign, etc. \n",
    "\n",
    "The [Matplotlib](http://matplotlib.org/) [examples](http://matplotlib.org/examples/index.html) and [gallery](http://matplotlib.org/gallery.html) pages are a great resource for doing visualizations in Python.\n",
    "\n",
    "**NOTE:** It's recommended you start with something simple first. If you wish to do more, come back to it after you've completed the rest of the sections. It can be interesting to look at the distribution of classes in the training, validation and test set. Is the distribution the same? Are there more examples of some classes than others?"
   ]
  },
  {
   "cell_type": "code",
   "execution_count": 5,
   "metadata": {
    "collapsed": true,
    "deletable": true,
    "editable": true
   },
   "outputs": [],
   "source": [
    "### Data exploration visualization code goes here.\n",
    "### Feel free to use as many code cells as needed.\n",
    "import matplotlib.pyplot as plt\n",
    "# Visualizations will be shown in the notebook.\n",
    "%matplotlib inline"
   ]
  },
  {
   "cell_type": "code",
   "execution_count": 6,
   "metadata": {
    "collapsed": true,
    "deletable": true,
    "editable": true
   },
   "outputs": [],
   "source": [
    "def display_X_y_images(X, y, signnames_pd, start_idx=0, end_idx=None, columns = 5):\n",
    "    if end_idx is None:\n",
    "        end_idx = X.shape[0]\n",
    "        \n",
    "    plt.figure(figsize=(32,18))\n",
    "\n",
    "    num_of_images = end_idx - start_idx\n",
    "    for i in range(start_idx, end_idx):\n",
    "        image = X[i]\n",
    "        \n",
    "        _i = i % num_of_images\n",
    "        plt.subplot(num_of_images / columns + 1, columns, _i + 1)\n",
    "        \n",
    "        if y[i] == -1:\n",
    "            title = 'Unlabeled'\n",
    "        else:\n",
    "            title = signnames_pd.loc[signnames_pd['ClassId']==y[i]]['SignName'].values[0]\n",
    "            \n",
    "        plt.title(title)\n",
    "        plt.imshow(image)"
   ]
  },
  {
   "cell_type": "code",
   "execution_count": 7,
   "metadata": {
    "collapsed": true,
    "deletable": true,
    "editable": true
   },
   "outputs": [],
   "source": [
    "idxs = [x for x in range(X_train.shape[0])]\n",
    "shuffle(idxs)\n",
    "X_train = X_train[idxs]\n",
    "y_train = y_train[idxs]"
   ]
  },
  {
   "cell_type": "code",
   "execution_count": 8,
   "metadata": {
    "collapsed": false,
    "deletable": true,
    "editable": true
   },
   "outputs": [
    {
     "data": {
      "image/png": "[encoded data removed]",
      "text/plain": [
       "<matplotlib.figure.Figure at 0x7fa2dffc7ba8>"
      ]
     },
     "metadata": {},
     "output_type": "display_data"
    }
   ],
   "source": [
    "display_X_y_images(X_train, y_train, signnames_pd, 0, 10)"
   ]
  },
  {
   "cell_type": "code",
   "execution_count": 9,
   "metadata": {
    "collapsed": false,
    "deletable": true,
    "editable": true
   },
   "outputs": [
    {
     "data": {
      "image/png": "[encoded data removed]",
      "text/plain": [
       "<matplotlib.figure.Figure at 0x7fa2dfafc828>"
      ]
     },
     "metadata": {},
     "output_type": "display_data"
    }
   ],
   "source": [
    "from collections import Counter\n",
    "\n",
    "label_cnts = Counter(y_train)\n",
    "\n",
    "x_vals = [x for x, _ in label_cnts.items()]\n",
    "y_vals = [y for _, y in label_cnts.items()]    \n",
    "\n",
    "plt.bar(x_vals, y_vals)\n",
    "plt.title(\"Number of traffic signs per label\")\n",
    "plt.ylabel('Number of traffic signs')\n",
    "plt.xlabel('Label')\n",
    "plt.show()"
   ]
  },
  {
   "cell_type": "code",
   "execution_count": 10,
   "metadata": {
    "collapsed": false,
    "deletable": true,
    "editable": true
   },
   "outputs": [
    {
     "data": {
      "image/png": "[encoded data removed]",
      "text/plain": [
       "<matplotlib.figure.Figure at 0x7fa2df979d30>"
      ]
     },
     "metadata": {},
     "output_type": "display_data"
    }
   ],
   "source": [
    "r_cnts = Counter(X_train[:,:,0].reshape((-1)))\n",
    "g_cnts = Counter(X_train[:,:,1].reshape((-1)))\n",
    "b_cnts = Counter(X_train[:,:,2].reshape((-1)))\n",
    "\n",
    "rgb_cnts = [r_cnts, g_cnts, b_cnts]\n",
    "\n",
    "f, (ax1, ax2, ax3) = plt.subplots(1, 3, sharey=True, figsize=(16,8))\n",
    "axs = [ax1, ax2, ax3]\n",
    "titles = ['Red', 'Green', 'Blue']\n",
    "\n",
    "for i, color_cnt in enumerate(rgb_cnts):\n",
    "    ax = axs[i]\n",
    "    \n",
    "    x_vals = [x for x, _ in color_cnt.items()]\n",
    "    y_vals = [y for _, y in color_cnt.items()] \n",
    "    \n",
    "    ax.bar(x_vals, y_vals)\n",
    "    ax.set_title(titles[i])\n",
    "    ax.set_ylabel('Frequency')\n",
    "    ax.set_xlabel('Color value')\n",
    "    \n",
    "plt.suptitle('Color Frequencies')\n",
    "    \n",
    "plt.show() "
   ]
  },
  {
   "cell_type": "code",
   "execution_count": 11,
   "metadata": {
    "collapsed": true,
    "deletable": true,
    "editable": true
   },
   "outputs": [],
   "source": [
    "for i in range(X_train.shape[0]):\n",
    "    image = X_train[i]\n",
    "    hsv = cv2.cvtColor(image, cv2.COLOR_RGB2HSV).astype(np.float32)\n",
    "    \n",
    "    mean_v = hsv[:, :, 2].mean()\n",
    "    \n",
    "    if mean_v == 0.0:\n",
    "        print(i)\n",
    "        plt.imshow(image)\n",
    "        plt.show()"
   ]
  },
  {
   "cell_type": "markdown",
   "metadata": {
    "deletable": true,
    "editable": true
   },
   "source": [
    "----\n",
    "\n",
    "## Step 2: Design and Test a Model Architecture\n",
    "\n",
    "Design and implement a deep learning model that learns to recognize traffic signs. Train and test your model on the [German Traffic Sign Dataset](http://benchmark.ini.rub.de/?section=gtsrb&subsection=dataset).\n",
    "\n",
    "The LeNet-5 implementation shown in the [classroom](https://classroom.udacity.com/nanodegrees/nd013/parts/fbf77062-5703-404e-b60c-95b78b2f3f9e/modules/6df7ae49-c61c-4bb2-a23e-6527e69209ec/lessons/601ae704-1035-4287-8b11-e2c2716217ad/concepts/d4aca031-508f-4e0b-b493-e7b706120f81) at the end of the CNN lesson is a solid starting point. You'll have to change the number of classes and possibly the preprocessing, but aside from that it's plug and play! \n",
    "\n",
    "With the LeNet-5 solution from the lecture, you should expect a validation set accuracy of about 0.89. To meet specifications, the validation set accuracy will need to be at least 0.93. It is possible to get an even higher accuracy, but 0.93 is the minimum for a successful project submission. \n",
    "\n",
    "There are various aspects to consider when thinking about this problem:\n",
    "\n",
    "- Neural network architecture (is the network over or underfitting?)\n",
    "- Play around preprocessing techniques (normalization, rgb to grayscale, etc)\n",
    "- Number of examples per label (some have more than others).\n",
    "- Generate fake data.\n",
    "\n",
    "Here is an example of a [published baseline model on this problem](http://yann.lecun.com/exdb/publis/pdf/sermanet-ijcnn-11.pdf). It's not required to be familiar with the approach used in the paper but, it's good practice to try to read papers like these."
   ]
  },
  {
   "cell_type": "markdown",
   "metadata": {
    "deletable": true,
    "editable": true
   },
   "source": [
    "### Pre-process the Data Set (normalization, grayscale, etc.)"
   ]
  },
  {
   "cell_type": "markdown",
   "metadata": {
    "deletable": true,
    "editable": true
   },
   "source": [
    "Minimally, the image data should be normalized so that the data has mean zero and equal variance. For image data, `(pixel - 128)/ 128` is a quick way to approximately normalize the data and can be used in this project. \n",
    "\n",
    "Other pre-processing steps are optional. You can try different techniques to see if it improves performance. \n",
    "\n",
    "Use the code cell (or multiple code cells, if necessary) to implement the first step of your project."
   ]
  },
  {
   "cell_type": "code",
   "execution_count": 12,
   "metadata": {
    "collapsed": true,
    "deletable": true,
    "editable": true
   },
   "outputs": [],
   "source": [
    "### Preprocess the data here. It is required to normalize the data. Other preprocessing steps could include \n",
    "### converting to grayscale, etc.\n",
    "### Feel free to use as many code cells as needed."
   ]
  },
  {
   "cell_type": "code",
   "execution_count": 13,
   "metadata": {
    "collapsed": true,
    "deletable": true,
    "editable": true
   },
   "outputs": [],
   "source": [
    "def apply_histogram_equalization(image):\n",
    "    yuv = cv2.cvtColor(image, cv2.COLOR_RGB2YUV).astype(np.uint8)\n",
    "    yuv[:,:,0] = cv2.equalizeHist(yuv[:,:,0])\n",
    "    \n",
    "    return cv2.cvtColor(yuv, cv2.COLOR_YUV2RGB).astype(np.uint8)"
   ]
  },
  {
   "cell_type": "code",
   "execution_count": 14,
   "metadata": {
    "collapsed": true,
    "deletable": true,
    "editable": true
   },
   "outputs": [],
   "source": [
    "def normalize_brightness(image):\n",
    "    hsv = cv2.cvtColor(image, cv2.COLOR_RGB2HSV).astype(np.float32)\n",
    "    \n",
    "    mean_v = hsv[:, :, 2].mean()\n",
    "    \n",
    "    if mean_v == 0.0:\n",
    "        return image\n",
    "    \n",
    "    ratio = 128.0/mean_v\n",
    "    \n",
    "    hsv[:, :, 2] = (hsv[:, :, 2] * ratio)\n",
    "    \n",
    "    v = hsv[:,:,2]\n",
    "    v[v > 255.0] = 255.0\n",
    "    hsv = hsv.astype(np.uint8)\n",
    "    \n",
    "    assert hsv[:, :, 2].max() <= 255\n",
    "    \n",
    "    return cv2.cvtColor(hsv, cv2.COLOR_HSV2RGB).astype(np.uint8)"
   ]
  },
  {
   "cell_type": "code",
   "execution_count": 15,
   "metadata": {
    "collapsed": true,
    "deletable": true,
    "editable": true
   },
   "outputs": [],
   "source": [
    "def apply_histogram_equalization(image):\n",
    "    yuv = cv2.cvtColor(image, cv2.COLOR_RGB2YUV).astype(np.uint8)\n",
    "    yuv[:,:,0] = cv2.equalizeHist(yuv[:,:,0])\n",
    "    \n",
    "    return cv2.cvtColor(yuv, cv2.COLOR_YUV2RGB).astype(np.uint8)"
   ]
  },
  {
   "cell_type": "code",
   "execution_count": 16,
   "metadata": {
    "collapsed": true,
    "deletable": true,
    "editable": true
   },
   "outputs": [],
   "source": [
    "def get_mask(hsv_img, lower_threshold, upper_threshold):\n",
    "    if lower_threshold[0] <= upper_threshold[0]:\n",
    "        return cv2.inRange(hsv_img, lower_threshold, upper_threshold)\n",
    "    \n",
    "    # deal with the looping red values\n",
    "    _lower_threshold = np.array([0, lower_threshold[1], \n",
    "                                 lower_threshold[2]])\n",
    "    _upper_threshold = np.array(upper_threshold)\n",
    "    mask1 = cv2.inRange(hsv_img, _lower_threshold, _upper_threshold)\n",
    "    mask1 = (mask1 == 255)\n",
    "\n",
    "    _lower_threshold = np.array(lower_threshold)\n",
    "    _upper_threshold = np.array([179, upper_threshold[1], \n",
    "                                 upper_threshold[2]])\n",
    "    mask2 = cv2.inRange(hsv_img, _lower_threshold, _upper_threshold)\n",
    "    mask2 = (mask2 == 255)\n",
    "\n",
    "    mask = (255 * (mask1 | mask2)).astype(np.uint8)\n",
    "    \n",
    "    return mask"
   ]
  },
  {
   "cell_type": "code",
   "execution_count": 17,
   "metadata": {
    "collapsed": true,
    "deletable": true,
    "editable": true
   },
   "outputs": [],
   "source": [
    "def get_red_mask(hsv_img):\n",
    "    LIGHT_RED = np.array([160,20,25])\n",
    "    DARK_RED = np.array([10,255,255])\n",
    "    \n",
    "    return get_mask(hsv_img, LIGHT_RED, DARK_RED)"
   ]
  },
  {
   "cell_type": "code",
   "execution_count": 18,
   "metadata": {
    "collapsed": true,
    "deletable": true,
    "editable": true
   },
   "outputs": [],
   "source": [
    "from skimage import color\n",
    "\n",
    "def get_black_mask(img):\n",
    "    temp_img = img.copy().astype(np.uint8)\n",
    "    #print(\"###get_black_mask\", temp_img.min(), temp_img.max())\n",
    "    \n",
    "    gray_img = color.rgb2gray(temp_img).astype(np.float32)\n",
    "    assert gray_img.min() >= 0.0 and gray_img.max() <= 255.0\n",
    "    return (255.0 * gray_img).astype(np.uint8) "
   ]
  },
  {
   "cell_type": "code",
   "execution_count": 19,
   "metadata": {
    "collapsed": true,
    "deletable": true,
    "editable": true
   },
   "outputs": [],
   "source": [
    "def get_blue_mask(hsv_img):\n",
    "    LIGHT_BLUE = np.array([110,25,25])\n",
    "    DARK_BLUE = np.array([130,255,255])\n",
    "    \n",
    "    return get_mask(hsv_img, LIGHT_BLUE, DARK_BLUE)    "
   ]
  },
  {
   "cell_type": "code",
   "execution_count": 20,
   "metadata": {
    "collapsed": true,
    "deletable": true,
    "editable": true
   },
   "outputs": [],
   "source": [
    "def get_yellow_mask(hsv_img):\n",
    "    LIGHT_YELLOW = np.array([10, 25, 25])\n",
    "    DARK_YELLOW = np.array([40,255,255])\n",
    "    \n",
    "    return get_mask(hsv_img, LIGHT_YELLOW, DARK_YELLOW)  "
   ]
  },
  {
   "cell_type": "code",
   "execution_count": 21,
   "metadata": {
    "collapsed": true,
    "deletable": true,
    "editable": true
   },
   "outputs": [],
   "source": [
    "def get_color_mask(image):\n",
    "    eq_image = apply_histogram_equalization(image)\n",
    "    hsv = cv2.cvtColor(eq_image, cv2.COLOR_RGB2HSV).astype(np.float32) \n",
    "    yuv = cv2.cvtColor(eq_image, cv2.COLOR_RGB2YUV).astype(np.float32) \n",
    "    \n",
    "    mask_arr = [eq_image[:,:,i] for i in range(eq_image.shape[2])]\n",
    "    #mask_arr += [hsv[:,:,i] for i in range(hsv.shape[2])]\n",
    "    #mask_arr += [yuv[:,:,i] for i in range(yuv.shape[2])]\n",
    "    \n",
    "    #mask_arr.append(get_black_mask(eq_image))\n",
    "    #mask_arr.append(get_canny(eq_image, min_threshold=0, max_threshold=100))\n",
    "    \n",
    "    color_mask = np.stack(mask_arr)\n",
    "    color_mask = np.swapaxes(color_mask,0,1)\n",
    "    color_mask = np.swapaxes(color_mask,1,2)\n",
    "    \n",
    "    assert color_mask.shape[2] == 3, color_mask.shape\n",
    "    \n",
    "    return color_mask"
   ]
  },
  {
   "cell_type": "code",
   "execution_count": 22,
   "metadata": {
    "collapsed": true,
    "deletable": true,
    "editable": true
   },
   "outputs": [],
   "source": [
    "from skimage import color\n",
    "\n",
    "def get_canny(image, min_threshold=100, max_threshold=200):\n",
    "    gray = (255.0 * color.rgb2gray(image)).astype(np.uint8)\n",
    "    \n",
    "    return cv2.Canny(gray, min_threshold, max_threshold)"
   ]
  },
  {
   "cell_type": "code",
   "execution_count": null,
   "metadata": {
    "collapsed": false,
    "deletable": true,
    "editable": true
   },
   "outputs": [
    {
     "data": {
      "image/png": "[encoded data removed]",
      "text/plain": [
       "<matplotlib.figure.Figure at 0x7fa2df979320>"
      ]
     },
     "metadata": {},
     "output_type": "display_data"
    }
   ],
   "source": [
    "display_X_y_images(X_train, y_train, signnames_pd, 0, 10)"
   ]
  },
  {
   "cell_type": "code",
   "execution_count": null,
   "metadata": {
    "collapsed": false,
    "deletable": true,
    "editable": true
   },
   "outputs": [],
   "source": [
    "display_X_y_images(np.stack([apply_histogram_equalization(X_train[i]) for i in range(10)]), y_train, signnames_pd, 0, 10)"
   ]
  },
  {
   "cell_type": "markdown",
   "metadata": {
    "deletable": true,
    "editable": true
   },
   "source": [
    "# Augment data\n",
    "\n",
    "For the training data, the numbers of images per label are not even.  Augment the data by doing on of the following transformations:\n",
    "1. Rotate\n",
    "    a. Rotation image from -45.0 to 45.0 degrees.\n",
    "2. Gaussian Noise\n",
    "    a. Add random Gaussian noise to image from -5.0 to 5.0.\n",
    "    b. Truncate image values from 0.0 to 255.0.\n",
    "3. Lighting\n",
    "    a. Convert to hsv.\n",
    "    b. Adjust light (v) value to 0.75 to 1.0.\n",
    "    c. Convert back to rgb."
   ]
  },
  {
   "cell_type": "code",
   "execution_count": null,
   "metadata": {
    "collapsed": false,
    "deletable": true,
    "editable": true
   },
   "outputs": [],
   "source": [
    "from skimage.transform import rotate\n",
    "from random import uniform, randrange\n",
    "import cv2\n",
    "\n",
    "def apply_random_rotate(image, min_angle, max_angle):\n",
    "    random_angle = uniform(min_angle, max_angle)\n",
    "    \n",
    "    return (255.0*rotate(image, random_angle)).astype(np.uint8)\n",
    "\n",
    "def add_gaussian_noise(image, noise_sigma):\n",
    "    temp_image = image.copy().astype(np.float32)\n",
    "    \n",
    "    h = temp_image.shape[0]\n",
    "    w = temp_image.shape[1]\n",
    "    noise = np.random.randn(h, w) * noise_sigma\n",
    "    \n",
    "    noisy_image = np.zeros(temp_image.shape)\n",
    "    \n",
    "    noisy_image[:,:,0] = temp_image[:,:,0] + noise\n",
    "    noisy_image[:,:,1] = temp_image[:,:,1] + noise\n",
    "    noisy_image[:,:,2] = temp_image[:,:,2] + noise    \n",
    "    \n",
    "    noisy_image[noisy_image < 0.0] = 0.0\n",
    "    noisy_image[noisy_image > 255.0] = 255.0\n",
    "    \n",
    "    return noisy_image.astype(np.uint8)\n",
    "\n",
    "def apply_random_light(image, min_perc, max_perc):\n",
    "    light_perc = uniform(min_perc, max_perc)\n",
    "    \n",
    "    hsv = cv2.cvtColor(image, cv2.COLOR_RGB2HSV)\n",
    "    hsv[:, :, 2] = hsv[:, :, 2] * light_perc\n",
    "    \n",
    "    return cv2.cvtColor(hsv, cv2.COLOR_HSV2RGB)\n",
    "\n",
    "def balance_images(X, y, min_angle, max_angle, noise_sigma):\n",
    "    label_cnts = Counter(y_train)\n",
    "    \n",
    "    max_cnt = max([y for _, y in label_cnts.items()])\n",
    "    \n",
    "    image_dict = {}\n",
    "    for i in range(X.shape[0]):\n",
    "        curr_image = X[i]\n",
    "        curr_y = y[i]\n",
    "        \n",
    "        if curr_y in image_dict:\n",
    "            image_dict[curr_y].append(curr_image)\n",
    "        else:\n",
    "            image_dict[curr_y] = [curr_image]\n",
    "            \n",
    "    for label, image_arr in image_dict.items():\n",
    "        initial_cnt = len(image_arr)\n",
    "        for i in range(max_cnt-initial_cnt):\n",
    "            idx = randrange(0, initial_cnt)\n",
    "            curr_image = image_arr[idx]\n",
    "            \n",
    "            rnd = randrange(0,3)\n",
    "            if rnd == 0:\n",
    "                alt_image = add_gaussian_noise(curr_image, noise_sigma)    \n",
    "            elif rnd == 1: \n",
    "                alt_image = apply_random_rotate(curr_image, min_angle, max_angle)            \n",
    "            else:\n",
    "                alt_image = add_gaussian_noise(curr_image, noise_sigma) \n",
    "                alt_image = apply_random_rotate(alt_image, min_angle, max_angle)\n",
    "                \n",
    "            image_dict[label].append(alt_image)\n",
    "            \n",
    "    balanced_label_arr = []\n",
    "    balanced_image_arr = []\n",
    "    for label, image_arr in image_dict.items():\n",
    "        balanced_label_arr += [label] * len(image_arr)\n",
    "        balanced_image_arr += image_arr\n",
    "        \n",
    "    balanced_labels = np.array(balanced_label_arr).reshape((-1))\n",
    "    balanced_images = np.stack(balanced_image_arr)\n",
    "    \n",
    "    return balanced_images, balanced_labels"
   ]
  },
  {
   "cell_type": "code",
   "execution_count": null,
   "metadata": {
    "collapsed": false,
    "deletable": true,
    "editable": true
   },
   "outputs": [],
   "source": [
    "X_train_balanced, y_train_balanced = balance_images(X_train, y_train, -12.5, 12.5, 5)\n",
    "idxs = [x for x in range(X_train_balanced.shape[0])]\n",
    "shuffle(idxs)\n",
    "X_train_balanced = X_train_balanced[idxs]\n",
    "y_train_balanced = y_train_balanced[idxs]"
   ]
  },
  {
   "cell_type": "code",
   "execution_count": null,
   "metadata": {
    "collapsed": false
   },
   "outputs": [],
   "source": [
    "display_X_y_images(X_train_balanced, y_train_balanced, signnames_pd, 0, 10)"
   ]
  },
  {
   "cell_type": "code",
   "execution_count": null,
   "metadata": {
    "collapsed": false,
    "deletable": true,
    "editable": true
   },
   "outputs": [],
   "source": [
    "def preprocess_images(images):\n",
    "    temp_images = images.copy().astype(np.float32)\n",
    "    \n",
    "    #temp_images = np.stack([get_color_mask(temp_images[i]) for i in range(temp_images.shape[0])]).astype(np.float32)\n",
    "    \n",
    "    masked_images = None\n",
    "    for i in tqdm(range(temp_images.shape[0])):\n",
    "        masked_image = get_color_mask(temp_images[i])\n",
    "        if masked_images is None:\n",
    "            masked_images = np.array([masked_image])\n",
    "        else:\n",
    "            masked_images = np.append(masked_images, masked_image)\n",
    "    \n",
    "    assert masked_images.shape[0] == images.shape[0]\n",
    "    \n",
    "    \"\"\"\n",
    "    for i in range(temp_images.shape[3]):\n",
    "        min_val = temp_images[:, :, :, i].min()\n",
    "        max_val = temp_images[:, :, :, i].max()\n",
    "    \n",
    "        val_range = max_val - min_val\n",
    "        \n",
    "        if val_range > 0:\n",
    "            temp_images[:, :, :, i] = (temp_images[:, :, :, i]/float(val_range)) - 0.5\n",
    "    \"\"\"\n",
    "    \n",
    "    \"\"\"\n",
    "    # standardize data\n",
    "    for i in range(temp_images.shape[3]):\n",
    "        curr_layer = temp_images[:, :, :, i]\n",
    "        mean_val = curr_layer.mean()\n",
    "        std_val = np.std(curr_layer)\n",
    "        \n",
    "        if std_val > 0.0:\n",
    "            temp_images[:, :, :, i] = (temp_images[:, :, :, i] - mean_val)/std_val\n",
    "    \"\"\"\n",
    "    \n",
    "    # normalize data\n",
    "    for i in tqdm(range(masked_images.shape[3])):\n",
    "        curr_layer = masked_images[:, :, :, i]\n",
    "        min_val = curr_layer.min()\n",
    "        max_val = curr_layer.max()\n",
    "        mean_val = curr_layer.mean()\n",
    "            \n",
    "        val_range = max_val - min_val + 1.0**-9\n",
    "        \n",
    "        masked_images[:, :, :, i] = 0.5*(curr_layer-mean_val)/val_range    \n",
    "\n",
    "    return masked_images"
   ]
  },
  {
   "cell_type": "code",
   "execution_count": null,
   "metadata": {
    "collapsed": false
   },
   "outputs": [],
   "source": [
    "import multiprocessing as mp"
   ]
  },
  {
   "cell_type": "code",
   "execution_count": null,
   "metadata": {
    "collapsed": false
   },
   "outputs": [],
   "source": [
    "def preprocess_images_mt(images, n=8):\n",
    "    print(images.shape[0])\n",
    "    if n <= 1 or images.shape[0] < 10*n:\n",
    "        return preprocess_images(images)\n",
    "    \n",
    "    output = mp.Queue()\n",
    "    \n",
    "    segment_size = int(images.shape[0]/n)\n",
    "    print(\"###segment_size\",segment_size )\n",
    "        \n",
    "    jobs = []\n",
    "    start_idx = 0\n",
    "    i = 0\n",
    "    while start_idx < images.shape[0]:\n",
    "        def worker(start_idx, end_idx, i):\n",
    "            preprocessed_images = preprocess_images(images[start_idx:end_idx])\n",
    "            output.put({'idx': i, 'images': preprocessed_images})\n",
    "        \n",
    "        end_idx = min(start_idx+segment_size, images.shape[0])\n",
    "        print(i, start_idx, end_idx)\n",
    "        \n",
    "        p = mp.Process(target=worker, args=(start_idx, end_idx, i))\n",
    "        jobs.append(p)\n",
    "        p.start()\n",
    "        \n",
    "        start_idx += segment_size\n",
    "        i += 1\n",
    "\n",
    "    for job in jobs:\n",
    "        job.join()\n",
    "        \n",
    "    preprocessed_images_dict = {}\n",
    "    for i in range(len(jobs)):\n",
    "        x = output.get()\n",
    "        preprocessed_images_dict[x['idx']] = x['images']\n",
    "        \n",
    "    preprocessed_images = None    \n",
    "    for key in sorted(preprocessed_images_dict):\n",
    "        if preprocessed_images is None:\n",
    "            preprocessed_images = preprocessed_images_dict[key]\n",
    "        else:   \n",
    "            preprocessed_images = np.concatenate(preprocessed_images_dict[key])\n",
    "        \n",
    "    print(\"###\", preprocessed_images.shape[0], images.shape[0])\n",
    "    \"\"\"\n",
    "    assert preprocessed_images.shape[0] == images.shape[0], (preprocessed_images.shape, \n",
    "                                                             images.shape)\n",
    "    \"\"\"\n",
    "        \n",
    "    return preprocessed_images"
   ]
  },
  {
   "cell_type": "code",
   "execution_count": null,
   "metadata": {
    "collapsed": false,
    "deletable": true,
    "editable": true
   },
   "outputs": [],
   "source": [
    "sample_len = int(0.1*X_train_balanced.shape[0])\n",
    "X_train_preprocessed = preprocess_images_mt(X_train_balanced[0:sample_len], 2)\n",
    "y_train_preprocessed = y_train_balanced[0:sample_len]\n",
    "\n",
    "X_valid_preprocessed = preprocess_images(X_valid)\n",
    "X_test_preprocessed = preprocess_images(X_test)"
   ]
  },
  {
   "cell_type": "code",
   "execution_count": null,
   "metadata": {
    "collapsed": false,
    "deletable": true,
    "editable": true
   },
   "outputs": [],
   "source": [
    "X_train_preprocessed.min(), X_train_preprocessed.max() "
   ]
  },
  {
   "cell_type": "code",
   "execution_count": null,
   "metadata": {
    "collapsed": false,
    "deletable": true,
    "editable": true
   },
   "outputs": [],
   "source": [
    "X_train_preprocessed.shape"
   ]
  },
  {
   "cell_type": "markdown",
   "metadata": {
    "deletable": true,
    "editable": true
   },
   "source": [
    "### Model Architecture"
   ]
  },
  {
   "cell_type": "code",
   "execution_count": null,
   "metadata": {
    "collapsed": true,
    "deletable": true,
    "editable": true
   },
   "outputs": [],
   "source": [
    "### Define your architecture here.\n",
    "### Feel free to use as many code cells as needed."
   ]
  },
  {
   "cell_type": "code",
   "execution_count": null,
   "metadata": {
    "collapsed": true,
    "deletable": true,
    "editable": true
   },
   "outputs": [],
   "source": [
    "import tensorflow as tf\n",
    "from tensorflow.contrib.layers import flatten"
   ]
  },
  {
   "cell_type": "code",
   "execution_count": null,
   "metadata": {
    "collapsed": true,
    "deletable": true,
    "editable": true
   },
   "outputs": [],
   "source": [
    "def leaky_relu(x, alpha):\n",
    "    return tf.maximum(alpha * x, x) \n",
    "\n",
    "def conv_layer(x, num_input_channels, num_output_channels, mu, sigma, window=(5,5)):\n",
    "    window_x,window_y = window\n",
    "    conv_W = tf.Variable(tf.truncated_normal(shape=(window_x, window_y, \n",
    "                                                    num_input_channels, num_output_channels), \n",
    "                                                     mean = mu, stddev = sigma))\n",
    "    conv_b = tf.Variable(tf.zeros(num_output_channels))\n",
    "    return tf.nn.conv2d(x, conv_W, strides=[1, 1, 1, 1], padding='SAME') + conv_b, conv_W\n",
    "\n",
    "def fully_connected(x, shape_in, shape_out, mu, sigma):\n",
    "    fc_W  = tf.Variable(tf.truncated_normal(shape=(shape_in, shape_out), \n",
    "                                            mean = mu, stddev = sigma))\n",
    "    fc_b  = tf.Variable(tf.zeros(shape_out))\n",
    "    return tf.matmul(x, fc_W) + fc_b, fc_W\n",
    "\n",
    "def model(x, channel_depth, mu = 0, sigma = 0.1, alpha=0.05): \n",
    "    # Layer 1: Convolutional. Input = 32x32x10. Output = 32x32x16.\n",
    "    conv1, conv1_W = conv_layer(x, 3, 16, mu, sigma)\n",
    "    print(conv1.get_shape())\n",
    "\n",
    "    # Leaky ReLU\n",
    "    conv1 = leaky_relu(conv1, alpha)    \n",
    "\n",
    "    # Pooling. Input = 32x32x16. Output = 16x16x16.\n",
    "    conv1 = tf.nn.max_pool(conv1, ksize=[1, 2, 2, 1], strides=[1, 2, 2, 1], padding='SAME')\n",
    "    print(conv1.get_shape())\n",
    "\n",
    "    # Layer 2: Convolutional. Output = 16x16x32.\n",
    "    conv2, conv2_W = conv_layer(conv1, 16, 32, mu, sigma)\n",
    "    print(conv2.get_shape())\n",
    "\n",
    "    # Leaky ReLU\n",
    "    conv2 = leaky_relu(conv2, alpha)  \n",
    "\n",
    "    # Pooling. Input = 16x16x32. Output = 8x8x32.\n",
    "    conv2 = tf.nn.max_pool(conv2, ksize=[1, 2, 2, 1], strides=[1, 2, 2, 1], padding='SAME')\n",
    "    print(conv2.get_shape())\n",
    "\n",
    "    # Layer 3: Convolutional. Output = 8x8x64.\n",
    "    conv3, conv3_W = conv_layer(conv2, 32, 64, mu, sigma)\n",
    "    print(conv3.get_shape())\n",
    "\n",
    "    # Leaky ReLU\n",
    "    conv3 = leaky_relu(conv3, alpha)  \n",
    "\n",
    "    # Pooling. Input = 8x8x64. Output = 4x4x64.\n",
    "    conv3 = tf.nn.max_pool(conv3, ksize=[1, 2, 2, 1], strides=[1, 2, 2, 1], padding='SAME') \n",
    "    print(conv3.get_shape())\n",
    "\n",
    "    # Flatten. Input = 4x4x64. Output = 1024.\n",
    "    fc0   = flatten(conv3)\n",
    "\n",
    "    # Layer 3: Fully Connected. Input = 1024. Output = 512.\n",
    "    fc1, fc1_W = fully_connected(fc0, 1024, 512, mu, sigma)\n",
    "\n",
    "    # Leaky ReLU\n",
    "    fc1 = leaky_relu(fc1, alpha)  \n",
    "    \n",
    "    # dropout\n",
    "    keep_prob = tf.placeholder(tf.float32)\n",
    "    fc1 = tf.nn.dropout(fc1, keep_prob)\n",
    "\n",
    "    # Layer 4: Fully Connected. Input = 512. Output = 256.\n",
    "    fc2, fc2_W = fully_connected(fc1, 512, 256, mu, sigma)\n",
    "\n",
    "    # Leaky ReLU\n",
    "    fc2 = leaky_relu(fc2, alpha)   \n",
    "    \n",
    "    # dropout\n",
    "    fc2 = tf.nn.dropout(fc2, keep_prob)    \n",
    "\n",
    "    # Layer 5: Fully Connected. Input = 256. Output = 43.\n",
    "    logits, fc3_W = fully_connected(fc2, 256, 43, mu, sigma)\n",
    "\n",
    "    return logits, keep_prob, [conv1_W, conv2_W, conv3_W, fc1_W, fc2_W, fc3_W]"
   ]
  },
  {
   "cell_type": "code",
   "execution_count": null,
   "metadata": {
    "collapsed": true,
    "deletable": true,
    "editable": true
   },
   "outputs": [],
   "source": [
    "channel_depth = 3\n",
    "x = tf.placeholder(tf.float32, (None, 32, 32, 3))\n",
    "y = tf.placeholder(tf.int32, (None))\n",
    "one_hot_y = tf.one_hot(y, 43)"
   ]
  },
  {
   "cell_type": "code",
   "execution_count": null,
   "metadata": {
    "collapsed": true,
    "deletable": true,
    "editable": true
   },
   "outputs": [],
   "source": []
  },
  {
   "cell_type": "code",
   "execution_count": null,
   "metadata": {
    "collapsed": false,
    "deletable": true,
    "editable": true
   },
   "outputs": [],
   "source": [
    "rate = 0.001\n",
    "#rate = 0.00005\n",
    "alpha = 0.000001\n",
    "beta = 0.001\n",
    "\n",
    "logits, keep_prob, weights = model(x, alpha=alpha)\n",
    "cross_entropy = tf.nn.softmax_cross_entropy_with_logits(labels=one_hot_y, logits=logits)\n",
    "\n",
    "loss_operation = tf.reduce_mean(cross_entropy)\n",
    "\n",
    "\n",
    "# Loss function using L2 Regularization\n",
    "regularizer = None\n",
    "for weight in weights:\n",
    "    if regularizer is None:\n",
    "        regularizer = tf.nn.l2_loss(weight)\n",
    "    else:\n",
    "        regularizer = regularizer + tf.nn.l2_loss(weight)\n",
    "loss_operation = tf.reduce_mean(loss_operation + beta * regularizer)\n",
    "\n",
    "optimizer = tf.train.AdamOptimizer(learning_rate = rate)\n",
    "training_operation = optimizer.minimize(loss_operation)"
   ]
  },
  {
   "cell_type": "markdown",
   "metadata": {
    "deletable": true,
    "editable": true
   },
   "source": [
    "### Train, Validate and Test the Model"
   ]
  },
  {
   "cell_type": "markdown",
   "metadata": {
    "deletable": true,
    "editable": true
   },
   "source": [
    "A validation set can be used to assess how well the model is performing. A low accuracy on the training and validation\n",
    "sets imply underfitting. A high accuracy on the training set but low accuracy on the validation set implies overfitting."
   ]
  },
  {
   "cell_type": "code",
   "execution_count": null,
   "metadata": {
    "collapsed": true,
    "deletable": true,
    "editable": true
   },
   "outputs": [],
   "source": [
    "### Train your model here.\n",
    "### Calculate and report the accuracy on the training and validation set.\n",
    "### Once a final model architecture is selected, \n",
    "### the accuracy on the test set should be calculated and reported as well.\n",
    "### Feel free to use as many code cells as needed."
   ]
  },
  {
   "cell_type": "code",
   "execution_count": null,
   "metadata": {
    "collapsed": true,
    "deletable": true,
    "editable": true
   },
   "outputs": [],
   "source": [
    "EPOCHS = 30\n",
    "BATCH_SIZE = 128"
   ]
  },
  {
   "cell_type": "code",
   "execution_count": null,
   "metadata": {
    "collapsed": true,
    "deletable": true,
    "editable": true
   },
   "outputs": [],
   "source": [
    "logits_argmax = tf.argmax(logits, 1, name='logits_argmax')\n",
    "one_hot_y_argmax = tf.argmax(one_hot_y, 1, name='one_hot_y_argmax')\n",
    "correct_prediction = tf.equal(logits_argmax, one_hot_y_argmax, name='correct_prediction')\n",
    "accuracy_operation = tf.reduce_mean(tf.cast(correct_prediction, tf.float32))\n",
    "saver = tf.train.Saver()\n",
    "\n",
    "def evaluate(X_data, y_data):\n",
    "    num_examples = len(X_data)\n",
    "    total_accuracy = 0\n",
    "    sess = tf.get_default_session()\n",
    "    for offset in range(0, num_examples, BATCH_SIZE):\n",
    "        batch_x, batch_y = X_data[offset:offset+BATCH_SIZE], y_data[offset:offset+BATCH_SIZE]\n",
    "        accuracy = sess.run(accuracy_operation, feed_dict={x: batch_x, y: batch_y, keep_prob: 1.0})\n",
    "        total_accuracy += (accuracy * len(batch_x))\n",
    "    return total_accuracy / num_examples"
   ]
  },
  {
   "cell_type": "code",
   "execution_count": null,
   "metadata": {
    "collapsed": true,
    "deletable": true,
    "editable": true
   },
   "outputs": [],
   "source": [
    "def shuffle_X_y(X, y):\n",
    "    idxs = [i for i in range(X.shape[0])]\n",
    "    shuffle(idxs)\n",
    "    \n",
    "    return X[idxs], y[idxs]"
   ]
  },
  {
   "cell_type": "code",
   "execution_count": null,
   "metadata": {
    "collapsed": false,
    "deletable": true,
    "editable": true
   },
   "outputs": [],
   "source": [
    "keep_prob_val = 0.8\n",
    "\n",
    "with tf.Session() as sess:\n",
    "    sess.run(tf.global_variables_initializer())\n",
    "    num_examples = len(X_train_preprocessed)\n",
    "    \n",
    "    print(\"Training...\")\n",
    "    print()\n",
    "    for i in range(EPOCHS):\n",
    "        X_train_preprocessed, y_train_preprocessed = shuffle_X_y(X_train_preprocessed, y_train_preprocessed)\n",
    "        for offset in range(0, num_examples, BATCH_SIZE):\n",
    "            end = offset + BATCH_SIZE\n",
    "            batch_x, batch_y = X_train_preprocessed[offset:end], y_train_preprocessed[offset:end]\n",
    "            sess.run(training_operation, feed_dict={x: batch_x, y: batch_y, keep_prob: keep_prob_val})\n",
    "        \n",
    "        validation_accuracy = evaluate(X_valid_preprocessed, y_valid)\n",
    "        print(\"EPOCH {} ...\".format(i+1))\n",
    "        print(\"Validation Accuracy = {:.3f}\".format(validation_accuracy))\n",
    "        print()\n",
    "        \n",
    "    saver.save(sess, './lenet')\n",
    "    print(\"Model saved\")"
   ]
  },
  {
   "cell_type": "code",
   "execution_count": null,
   "metadata": {
    "collapsed": false,
    "deletable": true,
    "editable": true
   },
   "outputs": [],
   "source": [
    "with tf.Session() as sess:\n",
    "    sess.run(tf.global_variables_initializer())\n",
    "    saver.restore(sess, tf.train.latest_checkpoint('.'))\n",
    "\n",
    "    test_accuracy = evaluate(X_test_preprocessed, y_test)\n",
    "    print(\"Test Accuracy = {:.3f}\".format(test_accuracy))"
   ]
  },
  {
   "cell_type": "code",
   "execution_count": null,
   "metadata": {
    "collapsed": false,
    "deletable": true,
    "editable": true
   },
   "outputs": [],
   "source": [
    "def display_layers(image):\n",
    "    plt.figure(figsize=(32,18))\n",
    "\n",
    "    for i in range(image.shape[2]):\n",
    "        layer = image[:,:,i]\n",
    "        \n",
    "        plt.subplot(1, image.shape[2], i + 1)\n",
    "        \n",
    "        plt.imshow(layer, cmap='gray')    \n",
    "    \n",
    "    plt.show()"
   ]
  },
  {
   "cell_type": "code",
   "execution_count": null,
   "metadata": {
    "collapsed": false,
    "deletable": true,
    "editable": true
   },
   "outputs": [],
   "source": [
    "display_layers(X_train_preprocessed[0])"
   ]
  },
  {
   "cell_type": "code",
   "execution_count": null,
   "metadata": {
    "collapsed": false,
    "deletable": true,
    "editable": true
   },
   "outputs": [],
   "source": [
    "X_train_preprocessed = preprocess_images(X_train)\n",
    "y_train_preprocessed = y_train\n",
    "start_idx = 400\n",
    "end_idx = 600\n",
    "\n",
    "top_logits = tf.nn.top_k(tf.nn.softmax(logits), k=5, name='top_logits')\n",
    "\n",
    "with tf.Session() as sess:\n",
    "    sess.run(tf.global_variables_initializer())\n",
    "    saver.restore(sess, tf.train.latest_checkpoint('.'))\n",
    "    \n",
    "    top_logits_result = sess.run(top_logits, \n",
    "                                 feed_dict={x: X_train_preprocessed[start_idx:end_idx], \n",
    "                                            keep_prob: 1.0})\n",
    "\n",
    "logit_vals, label_vals = top_logits_result     \n",
    "for i, idx in enumerate(range(start_idx, end_idx)): \n",
    "    curr_logit_vals = logit_vals[i]\n",
    "    curr_label_vals = label_vals[i]\n",
    "    \n",
    "    if y_train[idx] != curr_label_vals[0]:\n",
    "        plt.imshow(X_train[idx])\n",
    "        plt.show()\n",
    "        display_layers(X_train_preprocessed[idx])\n",
    "        print(\"%d: %s\" % (idx, signname_val_to_name(signnames_pd, y_train[idx])))\n",
    "\n",
    "        for j in range(curr_logit_vals.shape[0]):\n",
    "            print(\"\\t%.4f\\t%s\" % (curr_logit_vals[j], signname_val_to_name(signnames_pd, curr_label_vals[j])))\n",
    "              \n",
    "        print()"
   ]
  },
  {
   "cell_type": "markdown",
   "metadata": {
    "deletable": true,
    "editable": true
   },
   "source": [
    "---\n",
    "\n",
    "## Step 3: Test a Model on New Images\n",
    "\n",
    "To give yourself more insight into how your model is working, download at least five pictures of German traffic signs from the web and use your model to predict the traffic sign type.\n",
    "\n",
    "You may find `signnames.csv` useful as it contains mappings from the class id (integer) to the actual sign name."
   ]
  },
  {
   "cell_type": "markdown",
   "metadata": {
    "deletable": true,
    "editable": true
   },
   "source": [
    "### Load and Output the Images"
   ]
  },
  {
   "cell_type": "code",
   "execution_count": null,
   "metadata": {
    "collapsed": true,
    "deletable": true,
    "editable": true
   },
   "outputs": [],
   "source": [
    "### Load the images and plot them here.\n",
    "### Feel free to use as many code cells as needed."
   ]
  },
  {
   "cell_type": "code",
   "execution_count": null,
   "metadata": {
    "collapsed": true,
    "deletable": true,
    "editable": true
   },
   "outputs": [],
   "source": [
    "def read_images(img_dir, csv_file, csv_delimiter=';'):\n",
    "    meta_pd = pd.read_csv('%s/%s' % (img_dir, csv_file), delimiter=csv_delimiter)\n",
    "    \n",
    "    image_arr = []\n",
    "    \n",
    "    for index, row in meta_pd.iterrows():\n",
    "        filename = '%s/%s' % (img_dir, row['Filename'])\n",
    "        \n",
    "        pil_image = Image.open(filename)\n",
    "        image = np.array(pil_image)\n",
    "        image_arr.append(image)\n",
    "        \n",
    "    return image_arr, meta_pd"
   ]
  },
  {
   "cell_type": "code",
   "execution_count": null,
   "metadata": {
    "collapsed": true,
    "deletable": true,
    "editable": true
   },
   "outputs": [],
   "source": [
    "def crop_resize_images(image_arr, meta_pd, resize_dim):\n",
    "    cropped_resized_images = []\n",
    "    \n",
    "    for index, row in meta_pd.iterrows():\n",
    "        image = image_arr[index]\n",
    "        assert image.shape[0] == row['Height'], \"image.shape[0] = %d, row['Height'] = %d\" % (image.shape[0], row['Height'])\n",
    "        assert image.shape[1] == row['Width'], \"image.shape[1] = %d, row['Width'] = %d\" % (image.shape[1], row['Width'])\n",
    "        \n",
    "        cropped_image = image[row['Roi.Y1']:row['Roi.Y2'], row['Roi.X1']:row['Roi.X2']]   \n",
    "        resized_image = resize(cropped_image, resize_dim, mode='constant')\n",
    "        \n",
    "        cropped_resized_images.append(resized_image)\n",
    "        \n",
    "    return np.stack(cropped_resized_images)"
   ]
  },
  {
   "cell_type": "code",
   "execution_count": null,
   "metadata": {
    "collapsed": false,
    "deletable": true,
    "editable": true
   },
   "outputs": [],
   "source": [
    "def make_image_dataset(main_img_dir, resize_dim=(32, 32, 3), csv_delimiter=';', has_subdirs=True):\n",
    "    feature_arr = []\n",
    "    label_arr = []\n",
    "    sizes = []\n",
    "    coords = []\n",
    "    \n",
    "    if has_subdirs:\n",
    "        for curr_dir in tqdm([x for x in os.listdir(main_img_dir) if not x.startswith('.') and x != 'annotations']):\n",
    "            csv_file = [x for x in os.listdir('%s/%s' % (main_img_dir, curr_dir)) if x.endswith('.csv')][0]\n",
    "            image_arr, meta_pd = read_images('%s/%s' % (main_img_dir, curr_dir), csv_file, csv_delimiter=csv_delimiter)\n",
    "                                          \n",
    "            cr_images = crop_resize_images(image_arr, meta_pd, resize_dim)\n",
    "            feature_arr.append(cr_images)\n",
    "        \n",
    "            label_arr += [int(curr_dir)] * cr_images.shape[0]\n",
    "            sizes += [(row['Width'], row['Height']) for _, row in meta_pd.iterrows()]\n",
    "            coords += [(row['Roi.X1'], row['Roi.Y1'], row['Roi.X2'], row['Roi.Y2']) for _, row in meta_pd.iterrows()]\n",
    "    else:\n",
    "        csv_file = [x for x in os.listdir(main_img_dir) if x.endswith('.csv')][0]\n",
    "        image_arr, meta_pd = read_images(main_img_dir, csv_file, csv_delimiter=csv_delimiter)\n",
    "                                          \n",
    "        cr_images = crop_resize_images(image_arr, meta_pd, resize_dim)\n",
    "        feature_arr.append(cr_images)\n",
    "        \n",
    "        # since it's not in a subdir, set it to an unknown label\n",
    "        label_arr += meta_pd['ClassId'].tolist()\n",
    "        sizes += [(row['Width'], row['Height']) for _, row in meta_pd.iterrows()]\n",
    "        coords += [(row['Roi.X1'], row['Roi.Y1'], row['Roi.X2'], row['Roi.Y2']) for _, row in meta_pd.iterrows()]        \n",
    "          \n",
    "    features = (255.0 * np.concatenate(feature_arr, axis=0)).astype(np.uint8)\n",
    "    labels = np.array(label_arr)\n",
    "    \n",
    "    assert features.shape[0] == labels.shape[0]\n",
    "    assert labels.shape[0] == len(sizes)\n",
    "    assert len(sizes) == len(coords)\n",
    "    \n",
    "    return {\n",
    "        'features': features,\n",
    "        'labels': labels,\n",
    "        'sizes': sizes,\n",
    "        'coords': coords\n",
    "    }                                                              \n",
    "        "
   ]
  },
  {
   "cell_type": "code",
   "execution_count": null,
   "metadata": {
    "collapsed": false,
    "deletable": true,
    "editable": true
   },
   "outputs": [],
   "source": [
    "extra_images_dir = 'extra'\n",
    "extra_image_dataset = make_image_dataset(extra_images_dir, resize_dim=(32, 32, 3), csv_delimiter=\"\\t\", has_subdirs=False)"
   ]
  },
  {
   "cell_type": "code",
   "execution_count": null,
   "metadata": {
    "collapsed": true,
    "deletable": true,
    "editable": true
   },
   "outputs": [],
   "source": [
    "X_extra, y_extra = extra_image_dataset['features'], extra_image_dataset['labels']"
   ]
  },
  {
   "cell_type": "code",
   "execution_count": null,
   "metadata": {
    "collapsed": false,
    "deletable": true,
    "editable": true
   },
   "outputs": [],
   "source": [
    "display_X_y_images(X_extra, y_extra, signnames_pd, 0, 10)"
   ]
  },
  {
   "cell_type": "code",
   "execution_count": null,
   "metadata": {
    "collapsed": false,
    "deletable": true,
    "editable": true
   },
   "outputs": [],
   "source": [
    "X_extra_preprocessed = preprocess_images(X_extra)"
   ]
  },
  {
   "cell_type": "code",
   "execution_count": null,
   "metadata": {
    "collapsed": false,
    "deletable": true,
    "editable": true
   },
   "outputs": [],
   "source": [
    "X_extra_preprocessed.min(), X_extra_preprocessed.max()"
   ]
  },
  {
   "cell_type": "markdown",
   "metadata": {
    "deletable": true,
    "editable": true
   },
   "source": [
    "### Predict the Sign Type for Each Image"
   ]
  },
  {
   "cell_type": "code",
   "execution_count": null,
   "metadata": {
    "collapsed": true,
    "deletable": true,
    "editable": true
   },
   "outputs": [],
   "source": [
    "### Run the predictions here and use the model to output the prediction for each image.\n",
    "### Make sure to pre-process the images with the same pre-processing pipeline used earlier.\n",
    "### Feel free to use as many code cells as needed."
   ]
  },
  {
   "cell_type": "code",
   "execution_count": null,
   "metadata": {
    "collapsed": true,
    "deletable": true,
    "editable": true
   },
   "outputs": [],
   "source": [
    "def signname_val_to_name(signnames_pd, val):\n",
    "    return signnames_pd[signnames_pd['ClassId'] == val]['SignName'].values[0]"
   ]
  },
  {
   "cell_type": "code",
   "execution_count": null,
   "metadata": {
    "collapsed": false,
    "deletable": true,
    "editable": true
   },
   "outputs": [],
   "source": [
    "with tf.Session() as sess:\n",
    "    sess.run(tf.global_variables_initializer())\n",
    "    saver.restore(sess, tf.train.latest_checkpoint('.'))\n",
    "    \n",
    "    logits_result = sess.run(logits_argmax, feed_dict={x: X_extra_preprocessed, keep_prob: 1.0})\n",
    "\n",
    "    #print([signname_val_to_name(signnames_pd, x) for x in logits_result])"
   ]
  },
  {
   "cell_type": "markdown",
   "metadata": {
    "deletable": true,
    "editable": true
   },
   "source": [
    "### Analyze Performance"
   ]
  },
  {
   "cell_type": "code",
   "execution_count": null,
   "metadata": {
    "collapsed": true,
    "deletable": true,
    "editable": true
   },
   "outputs": [],
   "source": [
    "### Calculate the accuracy for these 5 new images. \n",
    "### For example, if the model predicted 1 out of 5 signs correctly, it's 20% accurate on these new images."
   ]
  },
  {
   "cell_type": "code",
   "execution_count": null,
   "metadata": {
    "collapsed": false,
    "deletable": true,
    "editable": true
   },
   "outputs": [],
   "source": [
    "image_cnt = y_extra.shape[0]\n",
    "correct_cnt = 0\n",
    "\n",
    "for i in range(image_cnt):\n",
    "    if y_extra[i] == logits_result[i]:\n",
    "        correct_cnt += 1\n",
    "        \n",
    "accuracy = float(correct_cnt)/image_cnt\n",
    "print(accuracy)"
   ]
  },
  {
   "cell_type": "markdown",
   "metadata": {
    "deletable": true,
    "editable": true
   },
   "source": [
    "### Output Top 5 Softmax Probabilities For Each Image Found on the Web"
   ]
  },
  {
   "cell_type": "markdown",
   "metadata": {
    "deletable": true,
    "editable": true
   },
   "source": [
    "For each of the new images, print out the model's softmax probabilities to show the **certainty** of the model's predictions (limit the output to the top 5 probabilities for each image). [`tf.nn.top_k`](https://www.tensorflow.org/versions/r0.12/api_docs/python/nn.html#top_k) could prove helpful here. \n",
    "\n",
    "The example below demonstrates how tf.nn.top_k can be used to find the top k predictions for each image.\n",
    "\n",
    "`tf.nn.top_k` will return the values and indices (class ids) of the top k predictions. So if k=3, for each sign, it'll return the 3 largest probabilities (out of a possible 43) and the correspoding class ids.\n",
    "\n",
    "Take this numpy array as an example. The values in the array represent predictions. The array contains softmax probabilities for five candidate images with six possible classes. `tf.nn.top_k` is used to choose the three classes with the highest probability:\n",
    "\n",
    "```\n",
    "# (5, 6) array\n",
    "a = np.array([[ 0.24879643,  0.07032244,  0.12641572,  0.34763842,  0.07893497,\n",
    "         0.12789202],\n",
    "       [ 0.28086119,  0.27569815,  0.08594638,  0.0178669 ,  0.18063401,\n",
    "         0.15899337],\n",
    "       [ 0.26076848,  0.23664738,  0.08020603,  0.07001922,  0.1134371 ,\n",
    "         0.23892179],\n",
    "       [ 0.11943333,  0.29198961,  0.02605103,  0.26234032,  0.1351348 ,\n",
    "         0.16505091],\n",
    "       [ 0.09561176,  0.34396535,  0.0643941 ,  0.16240774,  0.24206137,\n",
    "         0.09155967]])\n",
    "```\n",
    "\n",
    "Running it through `sess.run(tf.nn.top_k(tf.constant(a), k=3))` produces:\n",
    "\n",
    "```\n",
    "TopKV2(values=array([[ 0.34763842,  0.24879643,  0.12789202],\n",
    "       [ 0.28086119,  0.27569815,  0.18063401],\n",
    "       [ 0.26076848,  0.23892179,  0.23664738],\n",
    "       [ 0.29198961,  0.26234032,  0.16505091],\n",
    "       [ 0.34396535,  0.24206137,  0.16240774]]), indices=array([[3, 0, 5],\n",
    "       [0, 1, 4],\n",
    "       [0, 5, 1],\n",
    "       [1, 3, 5],\n",
    "       [1, 4, 3]], dtype=int32))\n",
    "```\n",
    "\n",
    "Looking just at the first row we get `[ 0.34763842,  0.24879643,  0.12789202]`, you can confirm these are the 3 largest probabilities in `a`. You'll also notice `[3, 0, 5]` are the corresponding indices."
   ]
  },
  {
   "cell_type": "code",
   "execution_count": null,
   "metadata": {
    "collapsed": true,
    "deletable": true,
    "editable": true
   },
   "outputs": [],
   "source": [
    "### Print out the top five softmax probabilities for the predictions on the German traffic sign images found on the web. \n",
    "### Feel free to use as many code cells as needed."
   ]
  },
  {
   "cell_type": "code",
   "execution_count": null,
   "metadata": {
    "collapsed": false,
    "deletable": true,
    "editable": true
   },
   "outputs": [],
   "source": [
    "top_logits = tf.nn.top_k(tf.nn.softmax(logits), k=5, name='top_logits')\n",
    "\n",
    "with tf.Session() as sess:\n",
    "    sess.run(tf.global_variables_initializer())\n",
    "    saver.restore(sess, tf.train.latest_checkpoint('.'))\n",
    "    \n",
    "    top_logits_result = sess.run(top_logits, feed_dict={x: X_extra_preprocessed, keep_prob: 1.0})\n",
    "\n",
    "logit_vals, label_vals = top_logits_result     \n",
    "for i in range(y_extra.shape[0]): \n",
    "    print(\"%d: %s\" % (i, signname_val_to_name(signnames_pd, y_extra[i])))\n",
    "    \n",
    "    curr_logit_vals = logit_vals[i]\n",
    "    curr_label_vals = label_vals[i]\n",
    "    for j in range(curr_logit_vals.shape[0]):\n",
    "        print(\"\\t%.4f\\t%s\" % (curr_logit_vals[j], signname_val_to_name(signnames_pd, curr_label_vals[j])))\n",
    "              \n",
    "    print()"
   ]
  },
  {
   "cell_type": "markdown",
   "metadata": {
    "deletable": true,
    "editable": true
   },
   "source": [
    "### Project Writeup\n",
    "\n",
    "Once you have completed the code implementation, document your results in a project writeup using this [template](https://github.com/udacity/CarND-Traffic-Sign-Classifier-Project/blob/master/writeup_template.md) as a guide. The writeup can be in a markdown or pdf file. "
   ]
  },
  {
   "cell_type": "markdown",
   "metadata": {
    "deletable": true,
    "editable": true
   },
   "source": [
    "> **Note**: Once you have completed all of the code implementations and successfully answered each question above, you may finalize your work by exporting the iPython Notebook as an HTML document. You can do this by using the menu above and navigating to  \\n\",\n",
    "    \"**File -> Download as -> HTML (.html)**. Include the finished document along with this notebook as your submission."
   ]
  },
  {
   "cell_type": "markdown",
   "metadata": {
    "deletable": true,
    "editable": true
   },
   "source": [
    "---\n",
    "\n",
    "## Step 4 (Optional): Visualize the Neural Network's State with Test Images\n",
    "\n",
    " This Section is not required to complete but acts as an additional excersise for understaning the output of a neural network's weights. While neural networks can be a great learning device they are often referred to as a black box. We can understand what the weights of a neural network look like better by plotting their feature maps. After successfully training your neural network you can see what it's feature maps look like by plotting the output of the network's weight layers in response to a test stimuli image. From these plotted feature maps, it's possible to see what characteristics of an image the network finds interesting. For a sign, maybe the inner network feature maps react with high activation to the sign's boundary outline or to the contrast in the sign's painted symbol.\n",
    "\n",
    " Provided for you below is the function code that allows you to get the visualization output of any tensorflow weight layer you want. The inputs to the function should be a stimuli image, one used during training or a new one you provided, and then the tensorflow variable name that represents the layer's state during the training process, for instance if you wanted to see what the [LeNet lab's](https://classroom.udacity.com/nanodegrees/nd013/parts/fbf77062-5703-404e-b60c-95b78b2f3f9e/modules/6df7ae49-c61c-4bb2-a23e-6527e69209ec/lessons/601ae704-1035-4287-8b11-e2c2716217ad/concepts/d4aca031-508f-4e0b-b493-e7b706120f81) feature maps looked like for it's second convolutional layer you could enter conv2 as the tf_activation variable.\n",
    "\n",
    "For an example of what feature map outputs look like, check out NVIDIA's results in their paper [End-to-End Deep Learning for Self-Driving Cars](https://devblogs.nvidia.com/parallelforall/deep-learning-self-driving-cars/) in the section Visualization of internal CNN State. NVIDIA was able to show that their network's inner weights had high activations to road boundary lines by comparing feature maps from an image with a clear path to one without. Try experimenting with a similar test to show that your trained network's weights are looking for interesting features, whether it's looking at differences in feature maps from images with or without a sign, or even what feature maps look like in a trained network vs a completely untrained one on the same sign image.\n",
    "\n",
    "<figure>\n",
    " <img src=\"visualize_cnn.png\" width=\"380\" alt=\"Combined Image\" />\n",
    " <figcaption>\n",
    " <p></p> \n",
    " <p style=\"text-align: center;\"> Your output should look something like this (above)</p> \n",
    " </figcaption>\n",
    "</figure>\n",
    " <p></p> \n"
   ]
  },
  {
   "cell_type": "code",
   "execution_count": null,
   "metadata": {
    "collapsed": true,
    "deletable": true,
    "editable": true
   },
   "outputs": [],
   "source": [
    "### Visualize your network's feature maps here.\n",
    "### Feel free to use as many code cells as needed.\n",
    "\n",
    "# image_input: the test image being fed into the network to produce the feature maps\n",
    "# tf_activation: should be a tf variable name used during your training procedure that represents the calculated state of a specific weight layer\n",
    "# activation_min/max: can be used to view the activation contrast in more detail, by default matplot sets min and max to the actual min and max values of the output\n",
    "# plt_num: used to plot out multiple different weight feature map sets on the same block, just extend the plt number for each new feature map entry\n",
    "\n",
    "def outputFeatureMap(image_input, tf_activation, activation_min=-1, activation_max=-1 ,plt_num=1):\n",
    "    # Here make sure to preprocess your image_input in a way your network expects\n",
    "    # with size, normalization, ect if needed\n",
    "    # image_input =\n",
    "    # Note: x should be the same name as your network's tensorflow data placeholder variable\n",
    "    # If you get an error tf_activation is not defined it may be having trouble accessing the variable from inside a function\n",
    "    activation = tf_activation.eval(session=sess,feed_dict={x : image_input})\n",
    "    featuremaps = activation.shape[3]\n",
    "    plt.figure(plt_num, figsize=(15,15))\n",
    "    for featuremap in range(featuremaps):\n",
    "        plt.subplot(6,8, featuremap+1) # sets the number of feature maps to show on each row and column\n",
    "        plt.title('FeatureMap ' + str(featuremap)) # displays the feature map number\n",
    "        if activation_min != -1 & activation_max != -1:\n",
    "            plt.imshow(activation[0,:,:, featuremap], interpolation=\"nearest\", vmin =activation_min, vmax=activation_max, cmap=\"gray\")\n",
    "        elif activation_max != -1:\n",
    "            plt.imshow(activation[0,:,:, featuremap], interpolation=\"nearest\", vmax=activation_max, cmap=\"gray\")\n",
    "        elif activation_min !=-1:\n",
    "            plt.imshow(activation[0,:,:, featuremap], interpolation=\"nearest\", vmin=activation_min, cmap=\"gray\")\n",
    "        else:\n",
    "            plt.imshow(activation[0,:,:, featuremap], interpolation=\"nearest\", cmap=\"gray\")"
   ]
  },
  {
   "cell_type": "code",
   "execution_count": null,
   "metadata": {
    "collapsed": true,
    "deletable": true,
    "editable": true
   },
   "outputs": [],
   "source": []
  }
 ],
 "metadata": {
  "anaconda-cloud": {},
  "kernelspec": {
   "display_name": "Python [conda env:carnd-term1]",
   "language": "python",
   "name": "conda-env-carnd-term1-py"
  },
  "language_info": {
   "codemirror_mode": {
    "name": "ipython",
    "version": 3
   },
   "file_extension": ".py",
   "mimetype": "text/x-python",
   "name": "python",
   "nbconvert_exporter": "python",
   "pygments_lexer": "ipython3",
   "version": "3.5.2"
  }
 },
 "nbformat": 4,
 "nbformat_minor": 1
}
