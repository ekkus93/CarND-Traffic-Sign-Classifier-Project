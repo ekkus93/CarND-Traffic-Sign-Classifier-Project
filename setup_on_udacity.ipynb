{
 "cells": [
  {
   "cell_type": "code",
   "execution_count": 14,
   "metadata": {},
   "outputs": [
    {
     "name": "stdout",
     "output_type": "stream",
     "text": [
      "Hit:1 http://archive.ubuntu.com/ubuntu xenial InRelease\n",
      "Get:2 http://security.ubuntu.com/ubuntu xenial-security InRelease [102 kB]\n",
      "Get:3 http://archive.ubuntu.com/ubuntu xenial-updates InRelease [102 kB]       \n",
      "Get:4 http://archive.ubuntu.com/ubuntu xenial-backports InRelease [102 kB]\n",
      "Fetched 306 kB in 0s (449 kB/s)                   \n",
      "Reading package lists... Done\n"
     ]
    }
   ],
   "source": [
    "! apt-get update"
   ]
  },
  {
   "cell_type": "code",
   "execution_count": 15,
   "metadata": {},
   "outputs": [
    {
     "name": "stdout",
     "output_type": "stream",
     "text": [
      "Reading package lists... Done\n",
      "Building dependency tree       \n",
      "Reading state information... Done\n",
      "ssh is already the newest version (1:7.2p2-4ubuntu2.2).\n",
      "0 upgraded, 0 newly installed, 0 to remove and 0 not upgraded.\n"
     ]
    }
   ],
   "source": [
    "! apt-get install ssh -y"
   ]
  },
  {
   "cell_type": "code",
   "execution_count": 18,
   "metadata": {},
   "outputs": [
    {
     "name": "stdout",
     "output_type": "stream",
     "text": [
      "total 8\r\n",
      "drwx------ 2 root root 4096 Jan  9 05:00 .\r\n",
      "drwx------ 1 root root 4096 Jan  9 05:00 ..\r\n"
     ]
    }
   ],
   "source": [
    "! ls -la ~/.ssh"
   ]
  },
  {
   "cell_type": "code",
   "execution_count": 21,
   "metadata": {},
   "outputs": [
    {
     "name": "stdout",
     "output_type": "stream",
     "text": [
      "# github.com:22 SSH-2.0-libssh_0.7.0\n",
      "# github.com:22 SSH-2.0-libssh_0.7.0\n",
      "# github.com:22 SSH-2.0-libssh_0.7.0\n"
     ]
    }
   ],
   "source": [
    "! ssh-keyscan -H github.com >> ~/.ssh/known_hosts"
   ]
  },
  {
   "cell_type": "code",
   "execution_count": 19,
   "metadata": {},
   "outputs": [],
   "source": [
    "! echo \"Host github.com\\nStrictHostKeyChecking no\\n\" > ~/.ssh/config"
   ]
  },
  {
   "cell_type": "code",
   "execution_count": 29,
   "metadata": {},
   "outputs": [
    {
     "name": "stdout",
     "output_type": "stream",
     "text": [
      "Cloning into 'CarND-Traffic-Sign-Classifier-Project'...\n",
      "remote: Counting objects: 402, done.\u001b[K\n",
      "remote: Compressing objects: 100% (31/31), done.\u001b[K\n",
      "remote: Total 402 (delta 25), reused 46 (delta 20), pack-reused 351\u001b[K\n",
      "Receiving objects: 100% (402/402), 4.95 MiB | 0 bytes/s, done.\n",
      "Resolving deltas: 100% (207/207), done.\n",
      "Checking connectivity... done.\n"
     ]
    }
   ],
   "source": [
    "! git clone https://github.com/ekkus93/CarND-Traffic-Sign-Classifier-Project.git"
   ]
  },
  {
   "cell_type": "code",
   "execution_count": 2,
   "metadata": {},
   "outputs": [
    {
     "name": "stdout",
     "output_type": "stream",
     "text": [
      "Cloning into 'CarND-Term1-Starter-Kit'...\n",
      "remote: Counting objects: 285, done.\u001b[K\n",
      "remote: Total 285 (delta 0), reused 0 (delta 0), pack-reused 285\u001b[K\n",
      "Receiving objects: 100% (285/285), 2.08 MiB | 0 bytes/s, done.\n",
      "Resolving deltas: 100% (159/159), done.\n",
      "Checking connectivity... done.\n"
     ]
    }
   ],
   "source": [
    "! git clone https://github.com/udacity/CarND-Term1-Starter-Kit.git"
   ]
  },
  {
   "cell_type": "code",
   "execution_count": 3,
   "metadata": {},
   "outputs": [
    {
     "name": "stdout",
     "output_type": "stream",
     "text": [
      "Fetching package metadata ...............\n",
      "Solving package specifications: .\n",
      "ca-certificate 100% |################################| Time: 0:00:00 851.24 kB/s\n",
      "ffmpeg-3.1.3-0 100% |################################| Time: 0:00:03  19.42 MB/s\n",
      "gettext-0.19.7 100% |################################| Time: 0:00:00  26.65 MB/s\n",
      "gmp-6.1.2-0.ta 100% |################################| Time: 0:00:00  28.73 MB/s\n",
      "graphite2-1.3. 100% |################################| Time: 0:00:00  27.93 MB/s\n",
      "icu-58.2-0.tar 100% |################################| Time: 0:00:00  24.14 MB/s\n",
      "jpeg-9b-2.tar. 100% |################################| Time: 0:00:00  23.04 MB/s\n",
      "libffi-3.2.1-3 100% |################################| Time: 0:00:00  19.40 MB/s\n",
      "libgfortran-3. 100% |################################| Time: 0:00:00   4.17 MB/s\n",
      "libiconv-1.15- 100% |################################| Time: 0:00:00  11.71 MB/s\n",
      "libsodium-1.0. 100% |################################| Time: 0:00:00   6.99 MB/s\n",
      "ncurses-5.9-10 100% |################################| Time: 0:00:00   9.43 MB/s\n",
      "pcre-8.39-0.ta 100% |################################| Time: 0:00:00   7.04 MB/s\n",
      "pixman-0.34.0- 100% |################################| Time: 0:00:00  11.03 MB/s\n",
      "sqlite-3.13.0- 100% |################################| Time: 0:00:00  15.81 MB/s\n",
      "tk-8.5.19-2.ta 100% |################################| Time: 0:00:00   9.92 MB/s\n",
      "xz-5.2.3-0.tar 100% |################################| Time: 0:00:00  13.14 MB/s\n",
      "zlib-1.2.11-0. 100% |################################| Time: 0:00:00  26.87 MB/s\n",
      "glib-2.51.4-0. 100% |################################| Time: 0:00:00  13.39 MB/s\n",
      "hdf5-1.10.1-1. 100% |################################| Time: 0:00:00  11.22 MB/s\n",
      "libpng-1.6.34- 100% |################################| Time: 0:00:00   9.16 MB/s\n",
      "libtiff-4.0.7- 100% |################################| Time: 0:00:00   8.32 MB/s\n",
      "libxml2-2.9.5- 100% |################################| Time: 0:00:00  10.70 MB/s\n",
      "openblas-0.2.2 100% |################################| Time: 0:00:00  20.91 MB/s\n",
      "openssl-1.0.2n 100% |################################| Time: 0:00:00  27.86 MB/s\n",
      "pandoc-2.1-0.t 100% |################################| Time: 0:00:00  24.06 MB/s\n",
      "readline-6.2-0 100% |################################| Time: 0:00:00  29.75 MB/s\n",
      "zeromq-4.2.1-1 100% |################################| Time: 0:00:00  29.71 MB/s\n",
      "blas-1.1-openb 100% |################################| Time: 0:00:00   1.33 MB/s\n",
      "freetype-2.7-1 100% |################################| Time: 0:00:00  26.58 MB/s\n",
      "python-3.5.2-5 100% |################################| Time: 0:00:00  24.67 MB/s\n",
      "asn1crypto-0.2 100% |################################| Time: 0:00:00  25.59 MB/s\n",
      "certifi-2017.1 100% |################################| Time: 0:00:00  19.95 MB/s\n",
      "click-6.7-py_1 100% |################################| Time: 0:00:00  18.68 MB/s\n",
      "dask-core-0.16 100% |################################| Time: 0:00:00  22.37 MB/s\n",
      "decorator-4.1. 100% |################################| Time: 0:00:00  15.54 MB/s\n",
      "entrypoints-0. 100% |################################| Time: 0:00:00  15.80 MB/s\n",
      "fontconfig-2.1 100% |################################| Time: 0:00:00   8.39 MB/s\n",
      "greenlet-0.4.1 100% |################################| Time: 0:00:00  11.61 MB/s\n",
      "idna-2.6-py35_ 100% |################################| Time: 0:00:00   4.43 MB/s\n",
      "ipython_genuti 100% |################################| Time: 0:00:00  15.74 MB/s\n",
      "itsdangerous-0 100% |################################| Time: 0:00:00   6.84 MB/s\n",
      "jedi-0.10.2-py 100% |################################| Time: 0:00:00   4.52 MB/s\n",
      "jsonschema-2.6 100% |################################| Time: 0:00:00   5.71 MB/s\n",
      "markupsafe-1.0 100% |################################| Time: 0:00:00  11.41 MB/s\n",
      "mistune-0.8.3- 100% |################################| Time: 0:00:00  13.54 MB/s\n",
      "numpy-1.12.1-p 100% |################################| Time: 0:00:01   7.13 MB/s\n",
      "olefile-0.44-p 100% |################################| Time: 0:00:00  16.65 MB/s\n",
      "pandocfilters- 100% |################################| Time: 0:00:00   4.24 MB/s\n",
      "pickleshare-0. 100% |################################| Time: 0:00:00  10.08 MB/s\n",
      "ptyprocess-0.5 100% |################################| Time: 0:00:01  21.27 kB/s\n",
      "pycparser-2.18 100% |################################| Time: 0:00:00 767.96 kB/s\n",
      "pyparsing-2.2. 100% |################################| Time: 0:00:00   1.13 MB/s\n",
      "pytz-2017.3-py 100% |################################| Time: 0:00:00   1.59 MB/s\n",
      "pyzmq-16.0.2-p 100% |################################| Time: 0:00:00   3.09 MB/s\n",
      "simplegeneric- 100% |################################| Time: 0:00:00   6.05 MB/s\n",
      "sip-4.18-py35_ 100% |################################| Time: 0:00:00   5.49 MB/s\n",
      "six-1.11.0-py3 100% |################################| Time: 0:00:00   8.42 MB/s\n",
      "testpath-0.3.1 100% |################################| Time: 0:00:00   2.90 MB/s\n",
      "toolz-0.8.2-py 100% |################################| Time: 0:00:00  16.30 MB/s\n",
      "tornado-4.5.2- 100% |################################| Time: 0:00:00   3.77 MB/s\n",
      "wcwidth-0.1.7- 100% |################################| Time: 0:00:00  10.95 MB/s\n",
      "webencodings-0 100% |################################| Time: 0:00:00   7.60 MB/s\n",
      "werkzeug-0.12. 100% |################################| Time: 0:00:00   2.28 MB/s\n",
      "cairo-1.14.6-4 100% |################################| Time: 0:00:00   3.60 MB/s\n",
      "cffi-1.11.2-py 100% |################################| Time: 0:00:00   3.66 MB/s\n",
      "cycler-0.10.0- 100% |################################| Time: 0:00:00   8.66 MB/s\n",
      "h5py-2.7.1-py3 100% |################################| Time: 0:00:00   4.80 MB/s\n",
      "html5lib-1.0.1 100% |################################| Time: 0:00:00  17.68 MB/s\n",
      "opencv3-3.1.0- 100% |################################| Time: 0:00:02  18.02 MB/s\n",
      "pexpect-4.3.1- 100% |################################| Time: 0:00:00  15.55 MB/s\n",
      "pillow-4.3.0-p 100% |################################| Time: 0:00:00  23.54 MB/s\n",
      "python-dateuti 100% |################################| Time: 0:00:00  18.27 MB/s\n",
      "python-enginei 100% |################################| Time: 0:00:00  10.80 MB/s\n",
      "pywavelets-0.5 100% |################################| Time: 0:00:00  22.66 MB/s\n",
      "scipy-1.0.0-py 100% |################################| Time: 0:00:01  25.74 MB/s\n",
      "setuptools-38. 100% |################################| Time: 0:00:00  19.02 MB/s\n",
      "terminado-0.8. 100% |################################| Time: 0:00:00   8.46 MB/s\n",
      "traitlets-4.3. 100% |################################| Time: 0:00:00  18.11 MB/s\n",
      "bleach-2.0.0-p 100% |################################| Time: 0:00:00  18.02 MB/s\n",
      "cryptography-2 100% |################################| Time: 0:00:00  22.15 MB/s\n",
      "harfbuzz-1.4.3 100% |################################| Time: 0:00:00  20.72 MB/s\n",
      "imageio-2.1.2- 100% |################################| Time: 0:00:00  13.19 MB/s\n",
      "jinja2-2.10-py 100% |################################| Time: 0:00:00  21.97 MB/s\n",
      "jupyter_core-4 100% |################################| Time: 0:00:00  14.00 MB/s\n",
      "networkx-2.0-p 100% |################################| Time: 0:00:00   9.13 MB/s\n",
      "pandas-0.22.0- 100% |################################| Time: 0:00:01  15.64 MB/s\n",
      "patsy-0.4.1-py 100% |################################| Time: 0:00:00  18.74 MB/s\n",
      "pygments-2.2.0 100% |################################| Time: 0:00:00  20.24 MB/s\n",
      "python-socketi 100% |################################| Time: 0:00:00   6.65 MB/s\n",
      "scikit-learn-0 100% |################################| Time: 0:00:00  15.96 MB/s\n",
      "wheel-0.30.0-p 100% |################################| Time: 0:00:00  17.89 MB/s\n",
      "flask-0.12.2-p 100% |################################| Time: 0:00:00  13.23 MB/s\n",
      "jupyter_client 100% |################################| Time: 0:00:00  18.47 MB/s\n",
      "nbformat-4.4.0 100% |################################| Time: 0:00:00  20.19 MB/s\n",
      "pango-1.40.4-0 100% |################################| Time: 0:00:00  22.06 MB/s\n",
      "pip-9.0.1-py35 100% |################################| Time: 0:00:00  22.84 MB/s\n",
      "prompt_toolkit 100% |################################| Time: 0:00:00  19.20 MB/s\n",
      "pyopenssl-17.4 100% |################################| Time: 0:00:00  16.40 MB/s\n",
      "statsmodels-0. 100% |################################| Time: 0:00:00  25.07 MB/s\n",
      "eventlet-0.21. 100% |################################| Time: 0:00:00   8.52 MB/s\n",
      "flask-socketio 100% |################################| Time: 0:00:00 895.58 kB/s\n",
      "ipython-6.2.1- 100% |################################| Time: 0:00:00   1.93 MB/s\n",
      "nbconvert-5.3. 100% |################################| Time: 0:00:00   3.92 MB/s\n",
      "qt-4.8.7-7.tar 100% |################################| Time: 0:00:02  14.95 MB/s\n",
      "ipykernel-4.7. 100% |################################| Time: 0:00:00  20.16 MB/s\n",
      "pyqt-4.11.4-py 100% |################################| Time: 0:00:00  11.74 MB/s\n",
      "jupyter_consol 100% |################################| Time: 0:00:00   8.39 MB/s\n",
      "matplotlib-2.0 100% |################################| Time: 0:00:01   9.55 MB/s\n",
      "notebook-5.2.2 100% |################################| Time: 0:00:00  21.03 MB/s\n",
      "qtconsole-4.3. 100% |################################| Time: 0:00:00  18.32 MB/s\n",
      "scikit-image-0 100% |################################| Time: 0:00:01  21.89 MB/s\n",
      "seaborn-0.8.1- 100% |################################| Time: 0:00:00  20.35 MB/s\n",
      "widgetsnbexten 100% |################################| Time: 0:00:00  19.44 MB/s\n",
      "ipywidgets-5.1 100% |################################| Time: 0:00:00  13.26 MB/s\n",
      "jupyter-1.0.0- 100% |################################| Time: 0:00:00   1.25 MB/s\n",
      "Collecting moviepy\n",
      "  Downloading moviepy-0.2.3.2-py2.py3-none-any.whl (122kB)\n",
      "\u001b[K    100% |████████████████████████████████| 133kB 2.4MB/s ta 0:00:01   33% |██████████▋                     | 40kB 1.9MB/s eta 0:00:01\n",
      "\u001b[?25hCollecting tensorflow==0.12.1\n",
      "  Downloading tensorflow-0.12.1-cp35-cp35m-manylinux1_x86_64.whl (43.1MB)\n",
      "\u001b[K    100% |████████████████████████████████| 43.1MB 15kB/s  eta 0:00:01  7% |██▎                             | 3.0MB 11.0MB/s eta 0:00:04    9% |███                             | 4.1MB 17.3MB/s eta 0:00:03    12% |███▉                            | 5.2MB 23.0MB/s eta 0:00:02    15% |█████                           | 6.6MB 32.1MB/s eta 0:00:02    18% |█████▉                          | 7.8MB 28.3MB/s eta 0:00:02    20% |██████▋                         | 8.9MB 24.6MB/s eta 0:00:02    23% |███████▋                        | 10.2MB 36.4MB/s eta 0:00:01    26% |████████▌                       | 11.5MB 26.0MB/s eta 0:00:02    29% |█████████▎                      | 12.5MB 21.6MB/s eta 0:00:02    34% |███████████                     | 14.8MB 21.9MB/s eta 0:00:02    36% |███████████▉                    | 15.9MB 23.3MB/s eta 0:00:02    39% |████████████▊                   | 17.2MB 26.5MB/s eta 0:00:01    42% |█████████████▋                  | 18.3MB 21.0MB/s eta 0:00:02    45% |██████████████▌                 | 19.5MB 22.1MB/s eta 0:00:02    47% |███████████████▍                | 20.7MB 23.0MB/s eta 0:00:01    50% |████████████████▎               | 21.9MB 24.5MB/s eta 0:00:01    53% |█████████████████▎              | 23.2MB 30.3MB/s eta 0:00:01    57% |██████████████████▎             | 24.6MB 30.7MB/s eta 0:00:01    59% |███████████████████▏            | 25.8MB 12.5MB/s eta 0:00:02    62% |████████████████████            | 27.0MB 22.2MB/s eta 0:00:01    65% |█████████████████████           | 28.2MB 25.9MB/s eta 0:00:01    68% |██████████████████████          | 29.5MB 33.5MB/s eta 0:00:01    71% |██████████████████████▊         | 30.7MB 23.6MB/s eta 0:00:01    73% |███████████████████████▋        | 31.8MB 16.6MB/s eta 0:00:01    75% |████████████████████████▏       | 32.6MB 41.4MB/s eta 0:00:01    77% |████████████████████████▉       | 33.5MB 22.1MB/s eta 0:00:01    79% |█████████████████████████▍      | 34.3MB 27.1MB/s eta 0:00:01    81% |██████████████████████████      | 35.2MB 25.0MB/s eta 0:00:01    83% |██████████████████████████▊     | 36.0MB 30.6MB/s eta 0:00:01    85% |███████████████████████████▍    | 36.9MB 26.0MB/s eta 0:00:01    90% |████████████████████████████▉   | 38.8MB 16.2MB/s eta 0:00:01    92% |█████████████████████████████▌  | 39.8MB 24.3MB/s eta 0:00:01    95% |██████████████████████████████▋ | 41.2MB 37.8MB/s eta 0:00:01    98% |███████████████████████████████▍| 42.3MB 24.6MB/s eta 0:00:01\n",
      "\u001b[?25hCollecting keras==1.2.1\n",
      "  Downloading Keras-1.2.1.tar.gz (173kB)\n",
      "\u001b[K    100% |████████████████████████████████| 174kB 3.0MB/s eta 0:00:01\n",
      "\u001b[?25hRequirement already satisfied: imageio==2.1.2 in /opt/conda/envs/carnd-term1/lib/python3.5/site-packages (from moviepy)\n",
      "Collecting decorator==4.0.11 (from moviepy)\n",
      "  Downloading decorator-4.0.11-py2.py3-none-any.whl\n",
      "Requirement already satisfied: numpy in /opt/conda/envs/carnd-term1/lib/python3.5/site-packages (from moviepy)\n",
      "Collecting tqdm==4.11.2 (from moviepy)\n",
      "  Downloading tqdm-4.11.2-py2.py3-none-any.whl (46kB)\n",
      "\u001b[K    100% |████████████████████████████████| 51kB 3.8MB/s ta 0:00:01\n",
      "\u001b[?25hRequirement already satisfied: wheel>=0.26 in /opt/conda/envs/carnd-term1/lib/python3.5/site-packages (from tensorflow==0.12.1)\n",
      "Collecting protobuf>=3.1.0 (from tensorflow==0.12.1)\n",
      "  Downloading protobuf-3.5.1-cp35-cp35m-manylinux1_x86_64.whl (6.4MB)\n",
      "\u001b[K    100% |████████████████████████████████| 6.4MB 100kB/s eta 0:00:01   9% |███                             | 604kB 24.6MB/s eta 0:00:01    53% |█████████████████               | 3.4MB 34.5MB/s eta 0:00:01    76% |████████████████████████▎       | 4.9MB 26.4MB/s eta 0:00:01    97% |███████████████████████████████ | 6.3MB 26.0MB/s eta 0:00:01\n",
      "\u001b[?25hRequirement already satisfied: six>=1.10.0 in /opt/conda/envs/carnd-term1/lib/python3.5/site-packages (from tensorflow==0.12.1)\n",
      "Collecting theano (from keras==1.2.1)\n",
      "  Downloading Theano-1.0.1.tar.gz (2.8MB)\n",
      "\u001b[K    100% |████████████████████████████████| 2.8MB 228kB/s eta 0:00:01    17% |█████▊                          | 501kB 23.2MB/s eta 0:00:01    65% |█████████████████████           | 1.9MB 31.0MB/s eta 0:00:01\n",
      "\u001b[?25hCollecting pyyaml (from keras==1.2.1)\n",
      "  Downloading PyYAML-3.12.tar.gz (253kB)\n",
      "\u001b[K    100% |████████████████████████████████| 256kB 2.2MB/s eta 0:00:01\n",
      "\u001b[?25hRequirement already satisfied: setuptools in /opt/conda/envs/carnd-term1/lib/python3.5/site-packages (from protobuf>=3.1.0->tensorflow==0.12.1)\n",
      "Requirement already satisfied: scipy>=0.14 in /opt/conda/envs/carnd-term1/lib/python3.5/site-packages (from theano->keras==1.2.1)\n",
      "Building wheels for collected packages: keras, theano, pyyaml\n",
      "  Running setup.py bdist_wheel for keras ... \u001b[?25ldone\n",
      "\u001b[?25h  Stored in directory: /root/.cache/pip/wheels/1b/89/c2/f774b6f20bfae61dcec703e8fce4c7b91d12954da5d881e4a5\n",
      "  Running setup.py bdist_wheel for theano ... \u001b[?25ldone\n",
      "\u001b[?25h  Stored in directory: /root/.cache/pip/wheels/46/a2/7d/b4cac381d5151daa9f9e0b3e4e4b65edaea6355ae296c97cf2\n",
      "  Running setup.py bdist_wheel for pyyaml ... \u001b[?25ldone\n",
      "\u001b[?25h  Stored in directory: /root/.cache/pip/wheels/2c/f7/79/13f3a12cd723892437c0cfbde1230ab4d82947ff7b3839a4fc\n",
      "Successfully built keras theano pyyaml\n",
      "Installing collected packages: decorator, tqdm, moviepy, protobuf, tensorflow, theano, pyyaml, keras\n",
      "  Found existing installation: decorator 4.1.2\n",
      "    Uninstalling decorator-4.1.2:\n",
      "      Successfully uninstalled decorator-4.1.2\n",
      "Successfully installed decorator-4.0.11 keras-1.2.1 moviepy-0.2.3.2 protobuf-3.5.1 pyyaml-3.12 tensorflow-0.12.1 theano-1.0.1 tqdm-4.11.2\n",
      "#\n",
      "# To activate this environment, use:\n",
      "# > source activate carnd-term1\n",
      "#\n",
      "# To deactivate an active environment, use:\n",
      "# > source deactivate\n",
      "#\n",
      "\n"
     ]
    }
   ],
   "source": [
    "! conda env create -f CarND-Term1-Starter-Kit/environment.yml"
   ]
  },
  {
   "cell_type": "code",
   "execution_count": 14,
   "metadata": {},
   "outputs": [
    {
     "name": "stdout",
     "output_type": "stream",
     "text": [
      "/usr/share/doc/ca-certificates/examples/ca-certificates-local/debian/source\n",
      "/usr/share/texmf/fonts/source\n",
      "/usr/share/texlive/texmf-dist/source\n",
      "/usr/share/texlive/texmf-dist/fonts/source\n",
      "/opt/conda/lib/python3.6/site-packages/pbr/tests/testpackage/doc/source\n",
      "/opt/conda/pkgs/pbr-3.1.1-py36_0/lib/python3.6/site-packages/pbr/tests/testpackage/doc/source\n"
     ]
    }
   ],
   "source": [
    "! find / -name source"
   ]
  },
  {
   "cell_type": "code",
   "execution_count": 11,
   "metadata": {},
   "outputs": [
    {
     "name": "stdout",
     "output_type": "stream",
     "text": [
      "Collecting source\n",
      "  Downloading source-1.2.0.zip\n",
      "Building wheels for collected packages: source\n",
      "  Running setup.py bdist_wheel for source ... \u001b[?25ldone\n",
      "\u001b[?25h  Stored in directory: /root/.cache/pip/wheels/86/81/64/9784257f14ed3f4ae98aafb8630a3a7f3b3e6cbfea13a3f98c\n",
      "Successfully built source\n",
      "Installing collected packages: source\n",
      "Successfully installed source-1.2.0\n"
     ]
    }
   ],
   "source": [
    "! pip install source"
   ]
  },
  {
   "cell_type": "code",
   "execution_count": 29,
   "metadata": {},
   "outputs": [
    {
     "name": "stdout",
     "output_type": "stream",
     "text": [
      "Warning: 'https://conda.anaconda.org/menpo' already in 'channels' list, moving to the bottom\r\n"
     ]
    }
   ],
   "source": [
    "! conda config --append channels https://conda.anaconda.org/menpo\n",
    "! conda config --append channels conda-forge"
   ]
  },
  {
   "cell_type": "code",
   "execution_count": 32,
   "metadata": {},
   "outputs": [
    {
     "name": "stdout",
     "output_type": "stream",
     "text": [
      "Fetching package metadata ...............\n",
      "Solving package specifications: .\n",
      "\n",
      "Package plan for installation in environment /opt/conda:\n",
      "\n",
      "The following NEW packages will be INSTALLED:\n",
      "\n",
      "    dask:             0.16.0-py36h73d177f_0             defaults   \n",
      "    distributed:      1.20.2-py36_0                     defaults   \n",
      "    graphite2:        1.3.10-hc526e54_0                 defaults   \n",
      "    jupyter:          1.0.0-py36h9896ce5_0              defaults   \n",
      "    jupyter_console:  5.2.0-py36he59e554_1              defaults   \n",
      "    libedit:          3.1.20170329-0                    conda-forge\n",
      "    opencv3:          3.1.0-py36_0                      menpo      \n",
      "    qtconsole:        4.3.1-py36h8f73b5b_0              defaults   \n",
      "    sortedcontainers: 1.5.7-py36hdf89491_0              defaults   \n",
      "    tblib:            1.3.2-py36h34cf8b6_0              defaults   \n",
      "    zict:             0.1.3-py36h3a3bf81_0              defaults   \n",
      "\n",
      "The following packages will be UPDATED:\n",
      "\n",
      "    cairo:            1.14.6-4                          conda-forge --> 1.14.10-hdf128ce_6          defaults   \n",
      "    fontconfig:       2.12.1-4                          conda-forge --> 2.12.4-h88586e7_1           defaults   \n",
      "    freetype:         2.7-1                             conda-forge --> 2.8.1-0                     conda-forge\n",
      "    glib:             2.51.4-0                          conda-forge --> 2.53.6-h5d9569c_2           defaults   \n",
      "    harfbuzz:         1.3.4-2                           conda-forge --> 1.5.0-h2545bd6_0            defaults   \n",
      "    matplotlib:       2.1.0-py36_0                      conda-forge --> 2.1.1-py36ha26af80_0        defaults   \n",
      "    pillow:           4.2.1-py36_0                      conda-forge --> 5.0.0-py36h3deb7b8_0        defaults   \n",
      "    python:           3.6.3-1                           conda-forge --> 3.6.3-h1284df2_4            defaults   \n",
      "    qt:               5.6.2-3                           conda-forge --> 5.6.2-7                     conda-forge\n",
      "    readline:         6.2-0                             conda-forge --> 7.0-hb321a52_4              defaults   \n",
      "    scikit-image:     0.13.1-py36_0                     conda-forge --> 0.13.1-py36h14c3975_1       defaults   \n",
      "    scipy:            0.19.1-py36_blas_openblas_202     conda-forge [blas_openblas] --> 1.0.0-py36_nomklh9d91e6a_0  defaults    [nomkl]\n",
      "    sqlite:           3.13.0-1                          conda-forge --> 3.20.1-hb898158_2           defaults   \n",
      "    tk:               8.5.19-2                          conda-forge --> 8.6.7-hc745277_3            defaults   \n",
      "\n",
      "The following packages will be SUPERSEDED by a higher-priority channel:\n",
      "\n",
      "    h5py:             2.7.1-py36_1                      conda-forge --> 2.7.0-np112py36_0           defaults   \n",
      "    hdf5:             1.8.18-2                          conda-forge --> 1.8.17-2                    defaults   \n",
      "    numpy:            1.12.1-py36_blas_openblas_200     conda-forge [blas_openblas] --> 1.12.1-py36he24570b_1       defaults   \n",
      "    scikit-learn:     0.19.1-py36_blas_openblas_200     conda-forge [blas_openblas] --> 0.19.1-py36_nomklh27f7947_0 defaults    [nomkl]\n",
      "\n",
      "The following packages will be DOWNGRADED:\n",
      "\n",
      "    opencv:           3.2.0-np112py36_blas_openblas_203 conda-forge [blas_openblas] --> 3.1.0-np112py36_1           conda-forge\n",
      "\n",
      "glib-2.53.6-h5 100% |################################| Time: 0:00:00  21.55 MB/s\n",
      "graphite2-1.3. 100% |################################| Time: 0:00:00  28.59 MB/s\n",
      "hdf5-1.8.17-2. 100% |################################| Time: 0:00:00  31.27 MB/s\n",
      "libedit-3.1.20 100% |################################| Time: 0:00:00 848.34 kB/s\n",
      "readline-7.0-h 100% |################################| Time: 0:00:00  35.26 MB/s\n",
      "tk-8.6.7-hc745 100% |################################| Time: 0:00:00  36.34 MB/s\n",
      "freetype-2.8.1 100% |################################| Time: 0:00:00   3.54 MB/s\n",
      "sqlite-3.20.1- 100% |################################| Time: 0:00:00  28.76 MB/s\n",
      "fontconfig-2.1 100% |################################| Time: 0:00:00  32.62 MB/s\n",
      "python-3.6.3-h 100% |################################| Time: 0:00:01  23.24 MB/s\n",
      "cairo-1.14.10- 100% |################################| Time: 0:00:00  31.95 MB/s\n",
      "numpy-1.12.1-p 100% |################################| Time: 0:00:00  33.72 MB/s\n",
      "qt-5.6.2-7.tar 100% |################################| Time: 0:00:03  15.05 MB/s\n",
      "sortedcontaine 100% |################################| Time: 0:00:00  18.06 MB/s\n",
      "tblib-1.3.2-py 100% |################################| Time: 0:00:00  11.48 MB/s\n",
      "h5py-2.7.0-np1 100% |################################| Time: 0:00:00  28.66 MB/s\n",
      "harfbuzz-1.5.0 100% |################################| Time: 0:00:00  28.74 MB/s\n",
      "opencv-3.1.0-n 100% |################################| Time: 0:00:01  25.18 MB/s\n",
      "opencv3-3.1.0- 100% |################################| Time: 0:00:01  30.64 MB/s\n",
      "pillow-5.0.0-p 100% |################################| Time: 0:00:00  29.98 MB/s\n",
      "scipy-1.0.0-py 100% |################################| Time: 0:00:00  29.10 MB/s\n",
      "zict-0.1.3-py3 100% |################################| Time: 0:00:00  10.60 MB/s\n",
      "distributed-1. 100% |################################| Time: 0:00:00  29.48 MB/s\n",
      "matplotlib-2.1 100% |################################| Time: 0:00:00  30.49 MB/s\n",
      "scikit-learn-0 100% |################################| Time: 0:00:00  28.78 MB/s\n",
      "dask-0.16.0-py 100% |################################| Time: 0:00:00   2.61 MB/s\n",
      "scikit-image-0 100% |################################| Time: 0:00:00  29.08 MB/s\n",
      "jupyter_consol 100% |################################| Time: 0:00:00  15.60 MB/s\n",
      "qtconsole-4.3. 100% |################################| Time: 0:00:00  24.18 MB/s\n",
      "jupyter-1.0.0- 100% |################################| Time: 0:00:00   3.41 MB/s\n",
      "Fetching package metadata ...............\n",
      "Solving package specifications: .\n",
      "\n",
      "Package plan for installation in environment /opt/conda:\n",
      "\n",
      "The following packages will be UPDATED:\n",
      "\n",
      "    h5py:           2.7.0-np112py36_0     defaults    --> 2.7.1-py36h9b8c120_0              defaults   \n",
      "    hdf5:           1.8.17-2              defaults    --> 1.8.18-h6792536_1                 defaults   \n",
      "    opencv:         3.1.0-np112py36_1     conda-forge --> 3.2.0-np112py36_blas_openblas_203 conda-forge [blas_openblas]\n",
      "    pandas:         0.20.3-py36_1         conda-forge --> 0.22.0-py36hf484d3e_0             defaults   \n",
      "\n",
      "The following packages will be SUPERSEDED by a higher-priority channel:\n",
      "\n",
      "    flask-socketio: 2.9.2-py36_0          conda-forge --> 2.9.2-py36hec8e26b_0              defaults   \n",
      "    seaborn:        0.8.1-py36_0          conda-forge --> 0.8.1-py36hfad7ec4_0              defaults   \n",
      "\n",
      "The following packages will be DOWNGRADED:\n",
      "\n",
      "    cairo:          1.14.10-hdf128ce_6    defaults    --> 1.14.6-4                          conda-forge\n",
      "    fontconfig:     2.12.4-h88586e7_1     defaults    --> 2.12.1-4                          conda-forge\n",
      "    freetype:       2.8.1-0               conda-forge --> 2.7-1                             conda-forge\n",
      "    glib:           2.53.6-h5d9569c_2     defaults    --> 2.51.4-0                          conda-forge\n",
      "    harfbuzz:       1.5.0-h2545bd6_0      defaults    --> 1.3.4-2                           conda-forge\n",
      "    matplotlib:     2.1.1-py36ha26af80_0  defaults    --> 2.1.0-py36_0                      conda-forge\n",
      "    numpy:          1.12.1-py36he24570b_1 defaults    --> 1.12.1-py36_nomkl_0               defaults    [nomkl        ]\n",
      "    pillow:         5.0.0-py36h3deb7b8_0  defaults    --> 4.2.1-py36_0                      conda-forge\n",
      "    python:         3.6.3-h1284df2_4      defaults    --> 3.6.2-0                           defaults   \n",
      "    qt:             5.6.2-7               conda-forge --> 5.6.2-3                           conda-forge\n",
      "    readline:       7.0-hb321a52_4        defaults    --> 6.2-2                             defaults   \n",
      "    sqlite:         3.20.1-hb898158_2     defaults    --> 3.13.0-0                          defaults   \n",
      "    tk:             8.6.7-hc745277_3      defaults    --> 8.5.18-0                          defaults   \n",
      "\n",
      "readline-6.2-2 100% |################################| Time: 0:00:00   9.45 MB/s\n",
      "sqlite-3.13.0- 100% |################################| Time: 0:00:00  26.11 MB/s\n",
      "tk-8.5.18-0.ta 100% |################################| Time: 0:00:00  39.43 MB/s\n",
      "hdf5-1.8.18-h6 100% |################################| Time: 0:00:00  38.44 MB/s\n",
      "python-3.6.2-0 100% |################################| Time: 0:00:00  38.01 MB/s\n",
      "numpy-1.12.1-p 100% |################################| Time: 0:00:00  38.69 MB/s\n",
      "h5py-2.7.1-py3 100% |################################| Time: 0:00:00   5.02 MB/s\n",
      "pillow-4.2.1-p 100% |################################| Time: 0:00:00   1.81 MB/s\n",
      "qt-5.6.2-3.tar 100% |################################| Time: 0:00:02  20.84 MB/s\n",
      "harfbuzz-1.3.4 100% |################################| Time: 0:00:00  25.73 MB/s\n",
      "pandas-0.22.0- 100% |################################| Time: 0:00:00  35.12 MB/s\n",
      "matplotlib-2.1 100% |################################| Time: 0:00:00  12.89 MB/s\n",
      "opencv-3.2.0-n 100% |################################| Time: 0:00:01  15.20 MB/s\n",
      "flask-socketio 100% |################################| Time: 0:00:00  13.92 MB/s\n",
      "seaborn-0.8.1- 100% |################################| Time: 0:00:00  34.71 MB/s\n"
     ]
    }
   ],
   "source": [
    "! conda install numpy matplotlib jupyter opencv3 pillow scikit-learn scikit-image scipy -y\n",
    "! conda install h5py eventlet flask-socketio seaborn pandas ffmpeg -y"
   ]
  },
  {
   "cell_type": "code",
   "execution_count": null,
   "metadata": {},
   "outputs": [
    {
     "name": "stdout",
     "output_type": "stream",
     "text": [
      "Fetching package metadata ...............\n",
      "Solving package specifications: .\n",
      "\n",
      "Package plan for installation in environment /opt/conda:\n",
      "\n",
      "The following packages will be SUPERSEDED by a higher-priority channel:\n",
      "\n",
      "    pyqt:       5.6.0-py36_4 conda-forge --> 4.11.4-py36_2     menpo      \n",
      "    qt:         5.6.2-3      conda-forge --> 4.8.7-3           defaults   \n",
      "\n",
      "The following packages will be DOWNGRADED:\n",
      "\n",
      "    matplotlib: 2.1.0-py36_0 conda-forge --> 2.0.0-np112py36_2 conda-forge\n",
      "\n",
      "qt-4.8.7-3.tar 100% |################################| Time: 0:00:00  44.65 MB/s\n",
      "pyqt-4.11.4-py 100% |################################| Time: 0:00:00   4.01 MB/s\n",
      "matplotlib-2.0 100% |################################| Time: 0:00:00  11.53 MB/s\n"
     ]
    }
   ],
   "source": [
    "! conda install imageio=2.1.2 pyqt=4.11.4 -y"
   ]
  },
  {
   "cell_type": "code",
   "execution_count": 3,
   "metadata": {},
   "outputs": [
    {
     "name": "stdout",
     "output_type": "stream",
     "text": [
      "Collecting moviepy\n",
      "  Downloading moviepy-0.2.3.2-py2.py3-none-any.whl (122kB)\n",
      "\u001b[K    100% |████████████████████████████████| 133kB 2.6MB/s ta 0:00:01\n",
      "\u001b[?25hCollecting tensorflow==0.12.1\n",
      "  Downloading tensorflow-0.12.1-cp36-cp36m-manylinux1_x86_64.whl (43.1MB)\n",
      "\u001b[K    100% |████████████████████████████████| 43.1MB 15kB/s  eta 0:00:01   12% |████▏                           | 5.6MB 27.4MB/s eta 0:00:02    21% |██████▉                         | 9.2MB 43.1MB/s eta 0:00:01    61% |███████████████████▉            | 26.7MB 29.1MB/s eta 0:00:01    90% |████████████████████████████▉   | 38.9MB 35.5MB/s eta 0:00:01\n",
      "\u001b[?25hCollecting keras==1.2.1\n",
      "  Downloading Keras-1.2.1.tar.gz (173kB)\n",
      "\u001b[K    100% |████████████████████████████████| 174kB 3.4MB/s eta 0:00:01\n",
      "\u001b[?25hRequirement already satisfied: imageio==2.1.2 in /opt/conda/lib/python3.6/site-packages (from moviepy)\n",
      "Requirement already satisfied: numpy in /opt/conda/lib/python3.6/site-packages (from moviepy)\n",
      "Requirement already satisfied: decorator==4.0.11 in /opt/conda/lib/python3.6/site-packages (from moviepy)\n",
      "Requirement already satisfied: tqdm==4.11.2 in /opt/conda/lib/python3.6/site-packages (from moviepy)\n",
      "Requirement already satisfied: six>=1.10.0 in /opt/conda/lib/python3.6/site-packages (from tensorflow==0.12.1)\n",
      "Requirement already satisfied: wheel>=0.26 in /opt/conda/lib/python3.6/site-packages (from tensorflow==0.12.1)\n",
      "Requirement already satisfied: protobuf>=3.1.0 in /opt/conda/lib/python3.6/site-packages (from tensorflow==0.12.1)\n",
      "Requirement already satisfied: theano in /opt/conda/lib/python3.6/site-packages (from keras==1.2.1)\n",
      "Requirement already satisfied: pyyaml in /opt/conda/lib/python3.6/site-packages (from keras==1.2.1)\n",
      "Requirement already satisfied: setuptools in /opt/conda/lib/python3.6/site-packages (from protobuf>=3.1.0->tensorflow==0.12.1)\n",
      "Requirement already satisfied: scipy>=0.14 in /opt/conda/lib/python3.6/site-packages (from theano->keras==1.2.1)\n",
      "Building wheels for collected packages: keras\n",
      "  Running setup.py bdist_wheel for keras ... \u001b[?25ldone\n",
      "\u001b[?25h  Stored in directory: /root/.cache/pip/wheels/1b/89/c2/f774b6f20bfae61dcec703e8fce4c7b91d12954da5d881e4a5\n",
      "Successfully built keras\n",
      "Installing collected packages: moviepy, tensorflow, keras\n",
      "  Found existing installation: tensorflow 1.3.0\n",
      "    Uninstalling tensorflow-1.3.0:\n",
      "      Successfully uninstalled tensorflow-1.3.0\n",
      "  Found existing installation: Keras 2.0.9\n",
      "    Uninstalling Keras-2.0.9:\n",
      "      Successfully uninstalled Keras-2.0.9\n",
      "Successfully installed keras-1.2.1 moviepy-0.2.3.2 tensorflow-0.12.1\n"
     ]
    }
   ],
   "source": [
    "! pip install moviepy tensorflow==0.12.1 keras==1.2.1 "
   ]
  },
  {
   "cell_type": "code",
   "execution_count": null,
   "metadata": {},
   "outputs": [],
   "source": []
  }
 ],
 "metadata": {
  "kernelspec": {
   "display_name": "Python 3",
   "language": "python",
   "name": "python3"
  },
  "language_info": {
   "codemirror_mode": {
    "name": "ipython",
    "version": 3
   },
   "file_extension": ".py",
   "mimetype": "text/x-python",
   "name": "python",
   "nbconvert_exporter": "python",
   "pygments_lexer": "ipython3",
   "version": "3.6.3"
  }
 },
 "nbformat": 4,
 "nbformat_minor": 2
}
